{
  "nbformat": 4,
  "nbformat_minor": 0,
  "metadata": {
    "colab": {
      "name": "HCV Python Clustering Project",
      "provenance": [],
      "collapsed_sections": []
    },
    "kernelspec": {
      "name": "python3",
      "display_name": "Python 3"
    }
  },
  "cells": [
    {
      "cell_type": "code",
      "metadata": {
        "id": "Zc7Yl4pp01_i",
        "colab_type": "code",
        "colab": {}
      },
      "source": [
        "import numpy as np\n",
        "import pandas as pd\n",
        "import matplotlib.pyplot as plt\n",
        "import seaborn as sns\n",
        "import plotly.express\n",
        "import plotly.graph_objects as go"
      ],
      "execution_count": null,
      "outputs": []
    },
    {
      "cell_type": "code",
      "metadata": {
        "id": "b6tsYvVc1EK4",
        "colab_type": "code",
        "colab": {}
      },
      "source": [
        "data=pd.read_csv('/content/hcvdat0.csv')"
      ],
      "execution_count": null,
      "outputs": []
    },
    {
      "cell_type": "code",
      "metadata": {
        "id": "xMfESxvV1IyW",
        "colab_type": "code",
        "colab": {
          "base_uri": "https://localhost:8080/",
          "height": 195
        },
        "outputId": "a330a9ed-0ace-44c3-b72b-60552a12b53e"
      },
      "source": [
        "data.tail()"
      ],
      "execution_count": null,
      "outputs": [
        {
          "output_type": "execute_result",
          "data": {
            "text/html": [
              "<div>\n",
              "<style scoped>\n",
              "    .dataframe tbody tr th:only-of-type {\n",
              "        vertical-align: middle;\n",
              "    }\n",
              "\n",
              "    .dataframe tbody tr th {\n",
              "        vertical-align: top;\n",
              "    }\n",
              "\n",
              "    .dataframe thead th {\n",
              "        text-align: right;\n",
              "    }\n",
              "</style>\n",
              "<table border=\"1\" class=\"dataframe\">\n",
              "  <thead>\n",
              "    <tr style=\"text-align: right;\">\n",
              "      <th></th>\n",
              "      <th>Unnamed: 0</th>\n",
              "      <th>Category</th>\n",
              "      <th>Age</th>\n",
              "      <th>Sex</th>\n",
              "      <th>ALB</th>\n",
              "      <th>ALP</th>\n",
              "      <th>ALT</th>\n",
              "      <th>AST</th>\n",
              "      <th>BIL</th>\n",
              "      <th>CHE</th>\n",
              "      <th>CHOL</th>\n",
              "      <th>CREA</th>\n",
              "      <th>GGT</th>\n",
              "      <th>PROT</th>\n",
              "    </tr>\n",
              "  </thead>\n",
              "  <tbody>\n",
              "    <tr>\n",
              "      <th>610</th>\n",
              "      <td>611</td>\n",
              "      <td>3=Cirrhosis</td>\n",
              "      <td>62</td>\n",
              "      <td>f</td>\n",
              "      <td>32.0</td>\n",
              "      <td>416.6</td>\n",
              "      <td>5.9</td>\n",
              "      <td>110.3</td>\n",
              "      <td>50.0</td>\n",
              "      <td>5.57</td>\n",
              "      <td>6.30</td>\n",
              "      <td>55.7</td>\n",
              "      <td>650.9</td>\n",
              "      <td>68.5</td>\n",
              "    </tr>\n",
              "    <tr>\n",
              "      <th>611</th>\n",
              "      <td>612</td>\n",
              "      <td>3=Cirrhosis</td>\n",
              "      <td>64</td>\n",
              "      <td>f</td>\n",
              "      <td>24.0</td>\n",
              "      <td>102.8</td>\n",
              "      <td>2.9</td>\n",
              "      <td>44.4</td>\n",
              "      <td>20.0</td>\n",
              "      <td>1.54</td>\n",
              "      <td>3.02</td>\n",
              "      <td>63.0</td>\n",
              "      <td>35.9</td>\n",
              "      <td>71.3</td>\n",
              "    </tr>\n",
              "    <tr>\n",
              "      <th>612</th>\n",
              "      <td>613</td>\n",
              "      <td>3=Cirrhosis</td>\n",
              "      <td>64</td>\n",
              "      <td>f</td>\n",
              "      <td>29.0</td>\n",
              "      <td>87.3</td>\n",
              "      <td>3.5</td>\n",
              "      <td>99.0</td>\n",
              "      <td>48.0</td>\n",
              "      <td>1.66</td>\n",
              "      <td>3.63</td>\n",
              "      <td>66.7</td>\n",
              "      <td>64.2</td>\n",
              "      <td>82.0</td>\n",
              "    </tr>\n",
              "    <tr>\n",
              "      <th>613</th>\n",
              "      <td>614</td>\n",
              "      <td>3=Cirrhosis</td>\n",
              "      <td>46</td>\n",
              "      <td>f</td>\n",
              "      <td>33.0</td>\n",
              "      <td>NaN</td>\n",
              "      <td>39.0</td>\n",
              "      <td>62.0</td>\n",
              "      <td>20.0</td>\n",
              "      <td>3.56</td>\n",
              "      <td>4.20</td>\n",
              "      <td>52.0</td>\n",
              "      <td>50.0</td>\n",
              "      <td>71.0</td>\n",
              "    </tr>\n",
              "    <tr>\n",
              "      <th>614</th>\n",
              "      <td>615</td>\n",
              "      <td>3=Cirrhosis</td>\n",
              "      <td>59</td>\n",
              "      <td>f</td>\n",
              "      <td>36.0</td>\n",
              "      <td>NaN</td>\n",
              "      <td>100.0</td>\n",
              "      <td>80.0</td>\n",
              "      <td>12.0</td>\n",
              "      <td>9.07</td>\n",
              "      <td>5.30</td>\n",
              "      <td>67.0</td>\n",
              "      <td>34.0</td>\n",
              "      <td>68.0</td>\n",
              "    </tr>\n",
              "  </tbody>\n",
              "</table>\n",
              "</div>"
            ],
            "text/plain": [
              "     Unnamed: 0     Category  Age Sex   ALB  ...   CHE  CHOL  CREA    GGT  PROT\n",
              "610         611  3=Cirrhosis   62   f  32.0  ...  5.57  6.30  55.7  650.9  68.5\n",
              "611         612  3=Cirrhosis   64   f  24.0  ...  1.54  3.02  63.0   35.9  71.3\n",
              "612         613  3=Cirrhosis   64   f  29.0  ...  1.66  3.63  66.7   64.2  82.0\n",
              "613         614  3=Cirrhosis   46   f  33.0  ...  3.56  4.20  52.0   50.0  71.0\n",
              "614         615  3=Cirrhosis   59   f  36.0  ...  9.07  5.30  67.0   34.0  68.0\n",
              "\n",
              "[5 rows x 14 columns]"
            ]
          },
          "metadata": {
            "tags": []
          },
          "execution_count": 3
        }
      ]
    },
    {
      "cell_type": "code",
      "metadata": {
        "id": "wKwUoMygeq_W",
        "colab_type": "code",
        "colab": {}
      },
      "source": [
        "arr=data['Category']\n",
        "t=[]\n",
        "for i in arr:\n",
        "  t.append(str(i).split('=')[1])\n",
        "data['Category'].replace({'0=Blood Donor':0,'0s=suspect Blood Donor':1,'1=Hepatitis':2, '2=Fibrosis':3,'3=Cirrhosis':4},inplace=True)"
      ],
      "execution_count": null,
      "outputs": []
    },
    {
      "cell_type": "code",
      "metadata": {
        "id": "IQrxyhyderPB",
        "colab_type": "code",
        "colab": {}
      },
      "source": [
        "data['category']=t"
      ],
      "execution_count": null,
      "outputs": []
    },
    {
      "cell_type": "markdown",
      "metadata": {
        "id": "TrAkCVnd11TC",
        "colab_type": "text"
      },
      "source": [
        "As you can see in the data that there are some NA values so instead of removing them completely we will fill them with the nearest values ."
      ]
    },
    {
      "cell_type": "code",
      "metadata": {
        "id": "VMnJM0xuUZqE",
        "colab_type": "code",
        "colab": {}
      },
      "source": [
        "data.interpolate(method='linear',limit_direction='forward',inplace=True)"
      ],
      "execution_count": null,
      "outputs": []
    },
    {
      "cell_type": "code",
      "metadata": {
        "id": "VU7L_dYgUlKG",
        "colab_type": "code",
        "colab": {
          "base_uri": "https://localhost:8080/",
          "height": 195
        },
        "outputId": "42c4b92e-8585-4ef2-d73b-8866f26e9ca6"
      },
      "source": [
        "data.tail()"
      ],
      "execution_count": null,
      "outputs": [
        {
          "output_type": "execute_result",
          "data": {
            "text/html": [
              "<div>\n",
              "<style scoped>\n",
              "    .dataframe tbody tr th:only-of-type {\n",
              "        vertical-align: middle;\n",
              "    }\n",
              "\n",
              "    .dataframe tbody tr th {\n",
              "        vertical-align: top;\n",
              "    }\n",
              "\n",
              "    .dataframe thead th {\n",
              "        text-align: right;\n",
              "    }\n",
              "</style>\n",
              "<table border=\"1\" class=\"dataframe\">\n",
              "  <thead>\n",
              "    <tr style=\"text-align: right;\">\n",
              "      <th></th>\n",
              "      <th>Unnamed: 0</th>\n",
              "      <th>Category</th>\n",
              "      <th>Age</th>\n",
              "      <th>Sex</th>\n",
              "      <th>ALB</th>\n",
              "      <th>ALP</th>\n",
              "      <th>ALT</th>\n",
              "      <th>AST</th>\n",
              "      <th>BIL</th>\n",
              "      <th>CHE</th>\n",
              "      <th>CHOL</th>\n",
              "      <th>CREA</th>\n",
              "      <th>GGT</th>\n",
              "      <th>PROT</th>\n",
              "      <th>category</th>\n",
              "    </tr>\n",
              "  </thead>\n",
              "  <tbody>\n",
              "    <tr>\n",
              "      <th>610</th>\n",
              "      <td>611</td>\n",
              "      <td>4</td>\n",
              "      <td>62</td>\n",
              "      <td>f</td>\n",
              "      <td>32.0</td>\n",
              "      <td>416.6</td>\n",
              "      <td>5.9</td>\n",
              "      <td>110.3</td>\n",
              "      <td>50.0</td>\n",
              "      <td>5.57</td>\n",
              "      <td>6.30</td>\n",
              "      <td>55.7</td>\n",
              "      <td>650.9</td>\n",
              "      <td>68.5</td>\n",
              "      <td>Cirrhosis</td>\n",
              "    </tr>\n",
              "    <tr>\n",
              "      <th>611</th>\n",
              "      <td>612</td>\n",
              "      <td>4</td>\n",
              "      <td>64</td>\n",
              "      <td>f</td>\n",
              "      <td>24.0</td>\n",
              "      <td>102.8</td>\n",
              "      <td>2.9</td>\n",
              "      <td>44.4</td>\n",
              "      <td>20.0</td>\n",
              "      <td>1.54</td>\n",
              "      <td>3.02</td>\n",
              "      <td>63.0</td>\n",
              "      <td>35.9</td>\n",
              "      <td>71.3</td>\n",
              "      <td>Cirrhosis</td>\n",
              "    </tr>\n",
              "    <tr>\n",
              "      <th>612</th>\n",
              "      <td>613</td>\n",
              "      <td>4</td>\n",
              "      <td>64</td>\n",
              "      <td>f</td>\n",
              "      <td>29.0</td>\n",
              "      <td>87.3</td>\n",
              "      <td>3.5</td>\n",
              "      <td>99.0</td>\n",
              "      <td>48.0</td>\n",
              "      <td>1.66</td>\n",
              "      <td>3.63</td>\n",
              "      <td>66.7</td>\n",
              "      <td>64.2</td>\n",
              "      <td>82.0</td>\n",
              "      <td>Cirrhosis</td>\n",
              "    </tr>\n",
              "    <tr>\n",
              "      <th>613</th>\n",
              "      <td>614</td>\n",
              "      <td>4</td>\n",
              "      <td>46</td>\n",
              "      <td>f</td>\n",
              "      <td>33.0</td>\n",
              "      <td>87.3</td>\n",
              "      <td>39.0</td>\n",
              "      <td>62.0</td>\n",
              "      <td>20.0</td>\n",
              "      <td>3.56</td>\n",
              "      <td>4.20</td>\n",
              "      <td>52.0</td>\n",
              "      <td>50.0</td>\n",
              "      <td>71.0</td>\n",
              "      <td>Cirrhosis</td>\n",
              "    </tr>\n",
              "    <tr>\n",
              "      <th>614</th>\n",
              "      <td>615</td>\n",
              "      <td>4</td>\n",
              "      <td>59</td>\n",
              "      <td>f</td>\n",
              "      <td>36.0</td>\n",
              "      <td>87.3</td>\n",
              "      <td>100.0</td>\n",
              "      <td>80.0</td>\n",
              "      <td>12.0</td>\n",
              "      <td>9.07</td>\n",
              "      <td>5.30</td>\n",
              "      <td>67.0</td>\n",
              "      <td>34.0</td>\n",
              "      <td>68.0</td>\n",
              "      <td>Cirrhosis</td>\n",
              "    </tr>\n",
              "  </tbody>\n",
              "</table>\n",
              "</div>"
            ],
            "text/plain": [
              "     Unnamed: 0  Category  Age Sex   ALB  ...  CHOL  CREA    GGT  PROT   category\n",
              "610         611         4   62   f  32.0  ...  6.30  55.7  650.9  68.5  Cirrhosis\n",
              "611         612         4   64   f  24.0  ...  3.02  63.0   35.9  71.3  Cirrhosis\n",
              "612         613         4   64   f  29.0  ...  3.63  66.7   64.2  82.0  Cirrhosis\n",
              "613         614         4   46   f  33.0  ...  4.20  52.0   50.0  71.0  Cirrhosis\n",
              "614         615         4   59   f  36.0  ...  5.30  67.0   34.0  68.0  Cirrhosis\n",
              "\n",
              "[5 rows x 15 columns]"
            ]
          },
          "metadata": {
            "tags": []
          },
          "execution_count": 8
        }
      ]
    },
    {
      "cell_type": "markdown",
      "metadata": {
        "id": "4L-Cw65ahpGt",
        "colab_type": "text"
      },
      "source": [
        "We are gonna seperate the people which are the suspected blood donors with the real blood donors"
      ]
    },
    {
      "cell_type": "code",
      "metadata": {
        "id": "5IkA5VFHdp7G",
        "colab_type": "code",
        "colab": {}
      },
      "source": [
        "bd=pd.DataFrame()\n",
        "bd=data[data['Category'].isin([0,1])]"
      ],
      "execution_count": null,
      "outputs": []
    },
    {
      "cell_type": "code",
      "metadata": {
        "id": "x4B0BXXRh_ff",
        "colab_type": "code",
        "colab": {
          "base_uri": "https://localhost:8080/",
          "height": 279
        },
        "outputId": "dfd743a1-dbb3-45af-9869-b97489810250"
      },
      "source": [
        "sns.distplot(bd[bd['Category']==0]['AST'],color='red',label='Blood Donors',rug=True);\n",
        "sns.distplot(data[data['Category']==1]['AST'],color='blue',label='Suspected Blood Donors',rug=True);\n",
        "\n"
      ],
      "execution_count": null,
      "outputs": [
        {
          "output_type": "display_data",
          "data": {
            "image/png": "[encoded data removed]",
            "text/plain": [
              "<Figure size 432x288 with 1 Axes>"
            ]
          },
          "metadata": {
            "tags": [],
            "needs_background": "light"
          }
        }
      ]
    },
    {
      "cell_type": "markdown",
      "metadata": {
        "id": "q4Mfsm8HkU8J",
        "colab_type": "text"
      },
      "source": [
        "What does it mean when your AST level is high?\n",
        "\n",
        "\n",
        "High levels of AST in the blood may indicate hepatitis, cirrhosis, mononucleosis, or other liver diseases. High AST levels can also indicate heart problems or pancreatitis. If your results are not in the normal range, it doesn't necessarily mean that you have a medical condition needing treatment."
      ]
    },
    {
      "cell_type": "code",
      "metadata": {
        "id": "lgKv8_7EiAS2",
        "colab_type": "code",
        "colab": {
          "base_uri": "https://localhost:8080/",
          "height": 279
        },
        "outputId": "fda742e4-d480-46b9-afbe-57a24c4ba0ea"
      },
      "source": [
        "sns.distplot(data[data['Category']==1]['AST'],color='blue',label='Suspected Blood Donors',rug=True);\n",
        "sns.distplot(data[data['Category']==2]['AST'],color='green',label='Hepatitis',rug=True);\n",
        "\n"
      ],
      "execution_count": null,
      "outputs": [
        {
          "output_type": "display_data",
          "data": {
            "image/png": "[encoded data removed]",
            "text/plain": [
              "<Figure size 432x288 with 1 Axes>"
            ]
          },
          "metadata": {
            "tags": [],
            "needs_background": "light"
          }
        }
      ]
    },
    {
      "cell_type": "code",
      "metadata": {
        "id": "Z7j_4dluk3eW",
        "colab_type": "code",
        "colab": {}
      },
      "source": [
        "# So we can see that the AST level in those with the disiese is pretty higher than the ones who are suspected or are the ones with no disease at all."
      ],
      "execution_count": null,
      "outputs": []
    },
    {
      "cell_type": "code",
      "metadata": {
        "id": "Cco580A7mB88",
        "colab_type": "code",
        "colab": {
          "base_uri": "https://localhost:8080/",
          "height": 542
        },
        "outputId": "bffe94a3-5b40-4754-dae6-53d15ac25d44"
      },
      "source": [
        "colours=['red','blue','green','yellow','violet']\n",
        "plotly.express.scatter_3d(data_frame=data,x='CREA',y='GGT',z='Age',color=data['category'])"
      ],
      "execution_count": null,
      "outputs": [
        {
          "output_type": "display_data",
          "data": {
            "text/html": [
              "<html>\n",
              "<head><meta charset=\"utf-8\" /></head>\n",
              "<body>\n",
              "    <div>\n",
              "            <script src=\"https://cdnjs.cloudflare.com/ajax/libs/mathjax/2.7.5/MathJax.js?config=TeX-AMS-MML_SVG\"></script><script type=\"text/javascript\">if (window.MathJax) {MathJax.Hub.Config({SVG: {font: \"STIX-Web\"}});}</script>\n",
              "                <script type=\"text/javascript\">window.PlotlyConfig = {MathJaxConfig: 'local'};</script>\n",
              "        <script src=\"https://cdn.plot.ly/plotly-latest.min.js\"></script>    \n",
              "            <div id=\"4a45b5dd-560b-4583-aad2-183aaeb87517\" class=\"plotly-graph-div\" style=\"height:525px; width:100%;\"></div>\n",
              "            <script type=\"text/javascript\">\n",
              "                \n",
              "                    window.PLOTLYENV=window.PLOTLYENV || {};\n",
              "                    \n",
              "                if (document.getElementById(\"4a45b5dd-560b-4583-aad2-183aaeb87517\")) {\n",
              "                    Plotly.newPlot(\n",
              "                        '4a45b5dd-560b-4583-aad2-183aaeb87517',\n",
              "                        [{\"hoverlabel\": {\"namelength\": 0}, \"hovertemplate\": \"category=Blood Donor<br>CREA=%{x}<br>GGT=%{y}<br>Age=%{z}\", \"legendgroup\": \"category=Blood Donor\", \"marker\": {\"color\": \"#636efa\", \"symbol\": \"circle\"}, \"mode\": \"markers\", \"name\": \"category=Blood Donor\", \"scene\": \"scene\", \"showlegend\": true, \"type\": \"scatter3d\", \"x\": [106.0, 74.0, 86.0, 80.0, 76.0, 111.0, 70.0, 109.0, 83.0, 81.0, 78.0, 79.0, 78.0, 65.0, 63.0, 71.0, 90.0, 102.0, 112.0, 105.0, 103.0, 78.0, 75.0, 71.0, 91.0, 80.0, 85.0, 62.0, 95.0, 83.0, 89.0, 93.0, 95.0, 84.0, 99.0, 88.0, 81.0, 90.0, 82.0, 82.0, 66.0, 89.0, 65.0, 71.0, 88.0, 88.0, 93.0, 69.0, 75.0, 96.0, 96.0, 79.0, 97.0, 68.0, 93.0, 83.0, 100.0, 81.0, 113.0, 72.0, 94.0, 84.0, 74.0, 90.0, 95.0, 82.0, 88.0, 70.0, 86.0, 84.0, 85.0, 99.0, 103.0, 90.0, 63.0, 67.0, 96.0, 87.0, 80.0, 89.0, 79.0, 81.0, 73.0, 77.0, 98.0, 73.0, 93.0, 82.0, 72.0, 103.0, 77.0, 94.0, 88.0, 87.0, 76.0, 92.0, 88.0, 91.0, 82.0, 98.0, 72.0, 90.0, 86.0, 72.0, 78.0, 87.0, 74.0, 83.0, 83.0, 95.0, 85.0, 88.0, 93.0, 54.0, 86.0, 108.0, 80.0, 79.0, 114.0, 95.0, 97.0, 63.0, 81.0, 64.0, 84.0, 72.0, 90.0, 84.0, 84.0, 74.0, 108.0, 67.0, 83.0, 105.0, 95.0, 88.0, 100.0, 94.0, 82.0, 101.0, 94.0, 71.0, 105.0, 74.0, 85.0, 83.0, 99.0, 89.0, 87.0, 71.0, 72.0, 82.0, 84.0, 91.0, 102.0, 84.0, 113.0, 106.0, 78.0, 96.0, 90.0, 101.0, 69.0, 75.0, 96.0, 81.0, 97.0, 79.0, 88.0, 60.0, 74.0, 87.0, 89.0, 96.0, 86.0, 66.0, 98.0, 90.0, 74.0, 87.0, 80.0, 83.0, 87.0, 81.0, 98.0, 114.0, 85.0, 84.0, 92.0, 98.0, 73.0, 106.0, 87.0, 99.0, 76.0, 92.0, 83.0, 89.0, 57.0, 67.0, 106.0, 77.0, 72.0, 91.0, 82.0, 103.0, 99.0, 89.0, 86.0, 81.0, 81.0, 85.0, 93.0, 81.0, 86.0, 96.0, 77.0, 84.0, 89.0, 74.0, 8.0, 73.0, 82.0, 80.0, 100.0, 94.0, 73.0, 106.0, 70.0, 74.0, 94.0, 64.0, 90.0, 119.0, 103.0, 107.0, 86.0, 76.0, 105.0, 85.0, 89.0, 92.0, 88.0, 73.0, 94.0, 71.0, 80.0, 83.0, 65.0, 105.0, 80.0, 86.0, 82.0, 90.0, 95.0, 71.0, 103.0, 91.0, 94.0, 106.0, 110.0, 65.0, 74.0, 74.0, 99.0, 60.0, 93.0, 70.0, 67.0, 78.0, 86.0, 91.0, 75.0, 83.0, 108.0, 98.0, 91.0, 92.0, 74.0, 107.0, 75.0, 88.0, 64.0, 74.0, 69.0, 95.0, 80.0, 70.0, 89.0, 83.0, 78.0, 81.0, 107.0, 81.0, 73.0, 91.0, 78.0, 78.0, 78.0, 72.0, 82.0, 73.0, 89.0, 111.0, 76.0, 88.0, 100.0, 97.0, 88.0, 100.0, 89.0, 74.0, 63.0, 83.0, 90.0, 127.0, 90.0, 103.0, 60.0, 63.0, 53.0, 71.0, 66.0, 52.0, 73.0, 76.0, 70.0, 68.0, 71.0, 48.0, 81.0, 78.0, 50.0, 56.0, 67.0, 86.0, 97.0, 75.0, 65.0, 90.0, 53.0, 61.0, 78.0, 75.0, 64.0, 64.0, 67.0, 67.0, 61.0, 95.0, 74.0, 68.0, 67.0, 77.0, 69.0, 75.0, 72.0, 83.0, 76.0, 54.0, 69.0, 100.0, 85.0, 69.0, 60.0, 68.0, 61.0, 75.0, 72.0, 88.0, 105.0, 68.0, 64.0, 65.0, 71.0, 67.0, 64.0, 54.0, 64.0, 73.0, 69.0, 64.0, 58.0, 73.0, 68.0, 70.0, 71.0, 76.0, 50.0, 74.0, 64.0, 69.0, 62.0, 61.0, 63.0, 74.0, 53.0, 72.0, 85.0, 69.0, 90.0, 86.0, 94.0, 66.0, 64.0, 70.0, 78.0, 67.0, 54.0, 72.0, 64.0, 86.0, 71.0, 61.0, 62.0, 67.0, 92.0, 78.0, 62.0, 75.0, 56.0, 74.0, 76.0, 70.0, 88.0, 70.0, 70.0, 41.0, 85.0, 66.0, 61.0, 77.0, 64.0, 52.0, 67.0, 74.0, 67.0, 66.0, 52.0, 53.0, 74.0, 83.0, 75.0, 83.0, 69.0, 77.0, 68.0, 77.0, 76.0, 84.0, 64.0, 70.0, 69.0, 68.0, 55.0, 72.0, 72.0, 60.0, 77.0, 70.0, 82.0, 83.0, 86.0, 70.0, 65.0, 69.0, 85.0, 75.0, 75.0, 88.0, 72.0, 66.0, 65.0, 67.0, 66.0, 70.0, 56.0, 74.0, 72.0, 62.0, 81.0, 62.0, 68.0, 58.0, 66.0, 69.0, 67.0, 71.0, 66.0, 69.0, 73.0, 66.0, 66.0, 67.0, 65.0, 55.0, 64.0, 72.0, 82.0, 69.0, 61.0, 59.0, 68.0, 71.0, 68.0, 63.0, 68.0, 62.0, 60.0, 40.0, 70.0, 61.0, 70.0, 63.0, 58.0, 70.0, 77.0, 68.0, 78.0, 103.0, 65.0, 71.0, 54.0, 59.0, 91.0, 62.0, 66.0, 63.0, 56.0, 63.0, 52.0, 59.0, 62.0], \"y\": [12.1, 15.6, 33.2, 33.8, 29.9, 91.0, 16.9, 21.5, 13.7, 15.9, 24.1, 18.7, 19.4, 7.0, 15.2, 24.0, 14.7, 48.5, 27.6, 19.1, 30.2, 29.5, 99.6, 35.3, 26.6, 23.7, 13.9, 14.5, 9.9, 23.8, 48.5, 14.3, 22.2, 27.3, 16.8, 77.3, 22.2, 20.0, 36.9, 20.7, 28.1, 25.0, 40.5, 10.5, 62.5, 20.9, 23.1, 14.2, 36.1, 21.9, 34.7, 17.5, 14.8, 22.9, 70.1, 38.9, 10.4, 22.7, 23.8, 10.3, 25.3, 16.0, 22.2, 27.8, 30.3, 32.3, 13.5, 94.5, 23.3, 16.0, 9.5, 88.3, 13.8, 30.0, 70.8, 17.3, 14.6, 43.2, 45.2, 19.6, 29.4, 31.5, 49.8, 22.6, 99.3, 22.1, 23.1, 20.6, 27.5, 64.0, 15.9, 76.9, 23.3, 17.0, 92.7, 24.1, 18.5, 18.2, 40.2, 14.2, 35.3, 11.4, 24.5, 21.6, 26.6, 33.8, 23.7, 18.6, 15.4, 19.7, 15.1, 21.8, 10.1, 18.4, 74.9, 17.4, 70.1, 15.9, 21.4, 22.3, 17.1, 25.1, 15.2, 153.5, 12.9, 23.3, 21.6, 20.8, 14.1, 25.2, 16.7, 14.0, 24.1, 34.2, 32.2, 11.4, 14.9, 21.3, 56.0, 34.9, 80.6, 67.4, 27.2, 19.7, 81.1, 19.8, 85.4, 19.9, 13.4, 11.7, 12.7, 24.8, 20.9, 28.8, 20.8, 15.4, 50.1, 10.6, 64.2, 41.7, 30.1, 21.1, 39.1, 34.9, 27.8, 14.9, 35.3, 28.8, 91.5, 26.6, 15.7, 24.4, 23.3, 10.3, 42.9, 23.4, 53.0, 16.4, 28.5, 14.7, 15.8, 32.3, 38.3, 29.9, 28.9, 45.2, 19.4, 74.5, 37.8, 87.0, 13.6, 15.9, 21.9, 26.9, 152.5, 12.1, 23.4, 55.2, 16.5, 64.0, 24.9, 16.9, 53.6, 33.3, 52.4, 239.0, 18.3, 18.2, 35.3, 29.9, 20.9, 36.2, 22.4, 12.3, 36.1, 62.5, 87.8, 18.9, 21.8, 26.5, 24.1, 30.0, 40.4, 21.5, 26.8, 33.0, 42.9, 73.7, 18.3, 33.6, 23.2, 49.3, 53.1, 114.9, 35.8, 48.3, 33.2, 24.3, 45.4, 73.2, 15.6, 82.6, 41.6, 36.3, 42.9, 8.8, 30.2, 29.1, 26.2, 59.2, 12.4, 30.7, 17.8, 34.6, 20.8, 37.6, 20.7, 14.7, 17.4, 15.1, 185.2, 19.2, 17.1, 58.7, 22.9, 10.8, 18.5, 14.3, 15.7, 27.2, 18.7, 14.0, 19.0, 20.3, 17.4, 71.4, 13.8, 19.2, 13.3, 25.5, 76.9, 23.5, 24.9, 51.4, 26.2, 20.3, 12.9, 23.1, 16.3, 59.3, 22.6, 19.8, 50.4, 53.7, 19.1, 36.2, 20.0, 21.2, 21.9, 112.8, 38.5, 27.1, 20.8, 26.2, 29.8, 24.6, 26.8, 78.3, 77.2, 16.6, 14.5, 28.1, 46.0, 13.5, 99.7, 18.3, 117.6, 25.8, 4.5, 23.0, 9.3, 44.6, 13.1, 19.1, 44.7, 15.4, 24.7, 32.1, 16.9, 25.7, 21.5, 8.0, 7.0, 11.4, 19.5, 4.9, 11.2, 18.7, 27.4, 18.5, 25.8, 24.3, 22.8, 17.8, 12.4, 17.4, 15.2, 15.1, 16.2, 37.3, 28.1, 10.8, 18.5, 27.0, 16.0, 10.4, 15.6, 28.9, 7.1, 24.0, 23.5, 30.5, 19.5, 20.1, 13.7, 22.9, 14.5, 10.6, 9.8, 11.5, 27.9, 24.1, 15.8, 17.1, 61.0, 13.0, 27.3, 18.6, 15.2, 68.9, 21.3, 9.7, 22.7, 14.6, 9.2, 10.4, 46.0, 10.4, 9.2, 20.8, 7.4, 11.8, 17.8, 19.6, 13.6, 14.3, 17.8, 13.7, 15.8, 14.9, 10.0, 92.3, 12.0, 49.4, 31.8, 12.3, 24.2, 15.1, 10.1, 13.4, 11.0, 11.0, 12.7, 29.0, 11.9, 35.0, 43.9, 19.9, 74.9, 13.0, 15.7, 7.9, 10.6, 16.5, 38.0, 11.8, 16.2, 17.2, 19.1, 19.6, 12.3, 24.1, 13.4, 23.9, 13.0, 10.3, 12.1, 21.4, 18.6, 12.7, 12.0, 12.5, 14.9, 7.9, 14.5, 19.1, 17.6, 21.3, 9.0, 19.4, 15.4, 25.4, 52.2, 27.1, 12.7, 10.4, 7.9, 17.4, 106.7, 21.7, 11.4, 62.1, 69.3, 18.6, 28.3, 11.9, 30.4, 14.5, 41.6, 16.3, 24.2, 10.8, 35.5, 14.2, 50.1, 82.6, 16.5, 12.3, 77.3, 11.4, 25.2, 74.9, 13.3, 27.6, 15.4, 58.2, 17.7, 32.5, 12.3, 29.4, 13.6, 7.2, 13.0, 9.0, 16.2, 19.1, 145.3, 16.4, 6.4, 22.4, 21.3, 11.3, 10.2, 10.0, 13.0, 14.8, 15.9, 8.1, 10.2, 31.2, 32.0, 30.7, 12.9, 16.3, 20.1, 24.0, 47.0, 27.4, 12.5, 13.0, 14.5, 11.8, 15.6, 17.7, 39.5, 18.3, 22.4, 46.0, 14.2, 61.9, 9.1, 23.8, 19.2], \"z\": [32, 32, 32, 32, 32, 32, 32, 32, 32, 32, 32, 33, 33, 33, 33, 33, 33, 33, 33, 33, 33, 33, 34, 34, 34, 34, 34, 34, 34, 34, 34, 34, 34, 35, 35, 35, 35, 35, 35, 35, 35, 35, 35, 36, 36, 36, 36, 36, 36, 36, 36, 36, 36, 37, 37, 37, 37, 37, 37, 37, 37, 37, 37, 37, 37, 37, 37, 37, 37, 37, 38, 38, 38, 38, 38, 38, 38, 38, 38, 38, 39, 39, 39, 39, 39, 39, 39, 39, 39, 39, 39, 39, 40, 40, 40, 40, 40, 40, 40, 40, 41, 41, 41, 41, 41, 41, 41, 41, 42, 42, 42, 42, 42, 42, 42, 42, 42, 43, 43, 43, 43, 43, 43, 43, 43, 43, 43, 43, 44, 44, 44, 44, 44, 44, 44, 44, 44, 44, 45, 45, 45, 45, 45, 45, 45, 45, 45, 46, 46, 46, 46, 46, 46, 46, 46, 46, 46, 46, 46, 46, 46, 47, 47, 47, 47, 47, 47, 47, 47, 47, 47, 47, 47, 47, 48, 48, 48, 48, 48, 48, 48, 48, 48, 48, 48, 48, 49, 49, 49, 49, 49, 49, 49, 49, 50, 50, 50, 50, 50, 50, 50, 50, 50, 50, 50, 50, 51, 51, 51, 51, 51, 51, 51, 51, 52, 52, 52, 52, 52, 52, 52, 52, 52, 52, 52, 52, 53, 53, 53, 53, 53, 53, 53, 53, 53, 53, 54, 54, 54, 54, 54, 54, 55, 55, 55, 55, 55, 55, 55, 55, 55, 56, 56, 56, 56, 56, 56, 56, 56, 57, 57, 57, 57, 58, 58, 58, 58, 59, 59, 59, 59, 59, 59, 59, 59, 60, 60, 60, 60, 60, 60, 61, 61, 61, 61, 61, 62, 62, 62, 62, 63, 63, 63, 64, 64, 64, 64, 65, 65, 65, 65, 65, 65, 66, 66, 66, 66, 67, 67, 67, 68, 68, 70, 70, 71, 76, 76, 77, 32, 32, 32, 32, 33, 33, 33, 33, 33, 33, 33, 33, 33, 33, 33, 33, 33, 34, 34, 34, 34, 34, 34, 34, 35, 35, 35, 35, 35, 35, 35, 35, 35, 35, 36, 36, 36, 36, 37, 37, 37, 38, 38, 38, 38, 38, 38, 39, 39, 40, 40, 40, 40, 40, 41, 41, 41, 41, 41, 42, 42, 43, 43, 43, 43, 43, 43, 43, 43, 43, 44, 44, 44, 44, 44, 44, 44, 44, 44, 45, 45, 45, 45, 45, 45, 45, 45, 45, 46, 46, 46, 46, 46, 46, 46, 46, 46, 46, 46, 46, 46, 47, 47, 47, 47, 47, 48, 48, 48, 48, 48, 48, 48, 48, 48, 48, 48, 48, 48, 48, 49, 49, 49, 49, 49, 49, 49, 49, 50, 50, 50, 50, 50, 50, 51, 51, 51, 51, 51, 51, 51, 51, 51, 51, 51, 51, 52, 52, 52, 52, 52, 52, 52, 52, 52, 53, 53, 53, 53, 53, 53, 53, 53, 53, 54, 54, 54, 54, 54, 55, 55, 55, 55, 56, 56, 56, 56, 56, 56, 56, 57, 57, 57, 57, 57, 57, 57, 57, 57, 57, 58, 58, 58, 59, 59, 59, 60, 60, 60, 60, 60, 60, 61, 61, 62, 62, 62, 63, 63, 63, 64, 64, 65, 68, 70]}, {\"hoverlabel\": {\"namelength\": 0}, \"hovertemplate\": \"category=suspect Blood Donor<br>CREA=%{x}<br>GGT=%{y}<br>Age=%{z}\", \"legendgroup\": \"category=suspect Blood Donor\", \"marker\": {\"color\": \"#EF553B\", \"symbol\": \"circle\"}, \"mode\": \"markers\", \"name\": \"category=suspect Blood Donor\", \"scene\": \"scene\", \"showlegend\": true, \"type\": \"scatter3d\", \"x\": [170.0, 29.0, 64.0, 76.0, 9.0, 52.0, 32.0], \"y\": [345.6, 83.0, 38.9, 71.6, 7.6, 218.3, 295.6], \"z\": [47, 48, 49, 55, 71, 74, 59]}, {\"hoverlabel\": {\"namelength\": 0}, \"hovertemplate\": \"category=Hepatitis<br>CREA=%{x}<br>GGT=%{y}<br>Age=%{z}\", \"legendgroup\": \"category=Hepatitis\", \"marker\": {\"color\": \"#00cc96\", \"symbol\": \"circle\"}, \"mode\": \"markers\", \"name\": \"category=Hepatitis\", \"scene\": \"scene\", \"showlegend\": true, \"type\": \"scatter3d\", \"x\": [77.9, 62.0, 79.3, 66.9, 55.2, 79.0, 86.0, 81.2, 45.4, 82.3, 69.2, 68.6, 81.8, 57.7, 81.5, 66.4, 75.3, 76.2, 97.7, 147.3, 58.8, 60.8, 56.6, 61.9], \"y\": [18.9, 65.0, 90.4, 40.2, 35.9, 37.0, 43.0, 48.1, 33.1, 34.4, 68.2, 40.6, 57.9, 143.4, 27.6, 158.2, 92.1, 76.4, 392.2, 491.0, 11.5, 24.7, 22.3, 169.8], \"z\": [38, 19, 23, 25, 27, 29, 30, 32, 32, 34, 35, 36, 38, 41, 44, 46, 50, 51, 56, 58, 33, 41, 50, 61]}, {\"hoverlabel\": {\"namelength\": 0}, \"hovertemplate\": \"category=Fibrosis<br>CREA=%{x}<br>GGT=%{y}<br>Age=%{z}\", \"legendgroup\": \"category=Fibrosis\", \"marker\": {\"color\": \"#ab63fa\", \"symbol\": \"circle\"}, \"mode\": \"markers\", \"name\": \"category=Fibrosis\", \"scene\": \"scene\", \"showlegend\": true, \"type\": \"scatter3d\", \"x\": [55.2, 70.9, 60.5, 76.7, 72.0, 72.0, 77.0, 112.0, 91.0, 70.9, 65.0, 70.0, 79.0, 65.3, 60.5, 71.4, 80.9, 89.0, 67.0, 80.0, 57.0], \"y\": [130.0, 127.3, 72.2, 28.4, 74.0, 59.0, 80.0, 203.0, 104.9, 69.6, 95.3, 53.0, 77.0, 60.0, 40.1, 27.9, 11.9, 53.0, 43.0, 84.0, 177.0], \"z\": [29, 40, 46, 48, 49, 49, 50, 53, 54, 57, 59, 64, 71, 36, 38, 57, 68, 49, 51, 56, 75]}, {\"hoverlabel\": {\"namelength\": 0}, \"hovertemplate\": \"category=Cirrhosis<br>CREA=%{x}<br>GGT=%{y}<br>Age=%{z}\", \"legendgroup\": \"category=Cirrhosis\", \"marker\": {\"color\": \"#FFA15A\", \"symbol\": \"circle\"}, \"mode\": \"markers\", \"name\": \"category=Cirrhosis\", \"scene\": \"scene\", \"showlegend\": true, \"type\": \"scatter3d\", \"x\": [61.0, 519.0, 106.4, 49.6, 76.7, 114.0, 1079.1, 58.0, 58.3, 75.9, 66.9, 62.7, 79.3, 66.4, 118.2, 71.7, 60.5, 72.3, 70.0, 51.0, 89.1, 485.9, 158.2, 56.0, 136.1, 55.7, 63.0, 66.7, 52.0, 67.0], \"y\": [99.0, 133.4, 151.0, 61.0, 65.6, 138.0, 105.6, 201.0, 399.5, 28.5, 93.7, 35.9, 17.6, 273.7, 56.9, 28.5, 53.6, 400.3, 107.0, 46.8, 146.3, 112.0, 142.5, 49.7, 101.1, 650.9, 35.9, 64.2, 50.0, 34.0], \"z\": [38, 39, 41, 42, 45, 46, 46, 47, 51, 51, 56, 56, 56, 58, 59, 59, 59, 61, 65, 74, 42, 49, 52, 58, 59, 62, 64, 64, 46, 59]}],\n",
              "                        {\"legend\": {\"tracegroupgap\": 0}, \"margin\": {\"t\": 60}, \"scene\": {\"domain\": {\"x\": [0.0, 1.0], \"y\": [0.0, 1.0]}, \"xaxis\": {\"title\": {\"text\": \"CREA\"}}, \"yaxis\": {\"title\": {\"text\": \"GGT\"}}, \"zaxis\": {\"title\": {\"text\": \"Age\"}}}, \"template\": {\"data\": {\"bar\": [{\"error_x\": {\"color\": \"#2a3f5f\"}, \"error_y\": {\"color\": \"#2a3f5f\"}, \"marker\": {\"line\": {\"color\": \"#E5ECF6\", \"width\": 0.5}}, \"type\": \"bar\"}], \"barpolar\": [{\"marker\": {\"line\": {\"color\": \"#E5ECF6\", \"width\": 0.5}}, \"type\": \"barpolar\"}], \"carpet\": [{\"aaxis\": {\"endlinecolor\": \"#2a3f5f\", \"gridcolor\": \"white\", \"linecolor\": \"white\", \"minorgridcolor\": \"white\", \"startlinecolor\": \"#2a3f5f\"}, \"baxis\": {\"endlinecolor\": \"#2a3f5f\", \"gridcolor\": \"white\", \"linecolor\": \"white\", \"minorgridcolor\": \"white\", \"startlinecolor\": \"#2a3f5f\"}, \"type\": \"carpet\"}], \"choropleth\": [{\"colorbar\": {\"outlinewidth\": 0, \"ticks\": \"\"}, \"type\": \"choropleth\"}], \"contour\": [{\"colorbar\": {\"outlinewidth\": 0, \"ticks\": \"\"}, \"colorscale\": [[0.0, \"#0d0887\"], [0.1111111111111111, \"#46039f\"], [0.2222222222222222, \"#7201a8\"], [0.3333333333333333, \"#9c179e\"], [0.4444444444444444, \"#bd3786\"], [0.5555555555555556, \"#d8576b\"], [0.6666666666666666, \"#ed7953\"], [0.7777777777777778, \"#fb9f3a\"], [0.8888888888888888, \"#fdca26\"], [1.0, \"#f0f921\"]], \"type\": \"contour\"}], \"contourcarpet\": [{\"colorbar\": {\"outlinewidth\": 0, \"ticks\": \"\"}, \"type\": \"contourcarpet\"}], \"heatmap\": [{\"colorbar\": {\"outlinewidth\": 0, \"ticks\": \"\"}, \"colorscale\": [[0.0, \"#0d0887\"], [0.1111111111111111, \"#46039f\"], [0.2222222222222222, \"#7201a8\"], [0.3333333333333333, \"#9c179e\"], [0.4444444444444444, \"#bd3786\"], [0.5555555555555556, \"#d8576b\"], [0.6666666666666666, \"#ed7953\"], [0.7777777777777778, \"#fb9f3a\"], [0.8888888888888888, \"#fdca26\"], [1.0, \"#f0f921\"]], \"type\": \"heatmap\"}], \"heatmapgl\": [{\"colorbar\": {\"outlinewidth\": 0, \"ticks\": \"\"}, \"colorscale\": [[0.0, \"#0d0887\"], [0.1111111111111111, \"#46039f\"], [0.2222222222222222, \"#7201a8\"], [0.3333333333333333, \"#9c179e\"], [0.4444444444444444, \"#bd3786\"], [0.5555555555555556, \"#d8576b\"], [0.6666666666666666, \"#ed7953\"], [0.7777777777777778, \"#fb9f3a\"], [0.8888888888888888, \"#fdca26\"], [1.0, \"#f0f921\"]], \"type\": \"heatmapgl\"}], \"histogram\": [{\"marker\": {\"colorbar\": {\"outlinewidth\": 0, \"ticks\": \"\"}}, \"type\": \"histogram\"}], \"histogram2d\": [{\"colorbar\": {\"outlinewidth\": 0, \"ticks\": \"\"}, \"colorscale\": [[0.0, \"#0d0887\"], [0.1111111111111111, \"#46039f\"], [0.2222222222222222, \"#7201a8\"], [0.3333333333333333, \"#9c179e\"], [0.4444444444444444, \"#bd3786\"], [0.5555555555555556, \"#d8576b\"], [0.6666666666666666, \"#ed7953\"], [0.7777777777777778, \"#fb9f3a\"], [0.8888888888888888, \"#fdca26\"], [1.0, \"#f0f921\"]], \"type\": \"histogram2d\"}], \"histogram2dcontour\": [{\"colorbar\": {\"outlinewidth\": 0, \"ticks\": \"\"}, \"colorscale\": [[0.0, \"#0d0887\"], [0.1111111111111111, \"#46039f\"], [0.2222222222222222, \"#7201a8\"], [0.3333333333333333, \"#9c179e\"], [0.4444444444444444, \"#bd3786\"], [0.5555555555555556, \"#d8576b\"], [0.6666666666666666, \"#ed7953\"], [0.7777777777777778, \"#fb9f3a\"], [0.8888888888888888, \"#fdca26\"], [1.0, \"#f0f921\"]], \"type\": \"histogram2dcontour\"}], \"mesh3d\": [{\"colorbar\": {\"outlinewidth\": 0, \"ticks\": \"\"}, \"type\": \"mesh3d\"}], \"parcoords\": [{\"line\": {\"colorbar\": {\"outlinewidth\": 0, \"ticks\": \"\"}}, \"type\": \"parcoords\"}], \"pie\": [{\"automargin\": true, \"type\": \"pie\"}], \"scatter\": [{\"marker\": {\"colorbar\": {\"outlinewidth\": 0, \"ticks\": \"\"}}, \"type\": \"scatter\"}], \"scatter3d\": [{\"line\": {\"colorbar\": {\"outlinewidth\": 0, \"ticks\": \"\"}}, \"marker\": {\"colorbar\": {\"outlinewidth\": 0, \"ticks\": \"\"}}, \"type\": \"scatter3d\"}], \"scattercarpet\": [{\"marker\": {\"colorbar\": {\"outlinewidth\": 0, \"ticks\": \"\"}}, \"type\": \"scattercarpet\"}], \"scattergeo\": [{\"marker\": {\"colorbar\": {\"outlinewidth\": 0, \"ticks\": \"\"}}, \"type\": \"scattergeo\"}], \"scattergl\": [{\"marker\": {\"colorbar\": {\"outlinewidth\": 0, \"ticks\": \"\"}}, \"type\": \"scattergl\"}], \"scattermapbox\": [{\"marker\": {\"colorbar\": {\"outlinewidth\": 0, \"ticks\": \"\"}}, \"type\": \"scattermapbox\"}], \"scatterpolar\": [{\"marker\": {\"colorbar\": {\"outlinewidth\": 0, \"ticks\": \"\"}}, \"type\": \"scatterpolar\"}], \"scatterpolargl\": [{\"marker\": {\"colorbar\": {\"outlinewidth\": 0, \"ticks\": \"\"}}, \"type\": \"scatterpolargl\"}], \"scatterternary\": [{\"marker\": {\"colorbar\": {\"outlinewidth\": 0, \"ticks\": \"\"}}, \"type\": \"scatterternary\"}], \"surface\": [{\"colorbar\": {\"outlinewidth\": 0, \"ticks\": \"\"}, \"colorscale\": [[0.0, \"#0d0887\"], [0.1111111111111111, \"#46039f\"], [0.2222222222222222, \"#7201a8\"], [0.3333333333333333, \"#9c179e\"], [0.4444444444444444, \"#bd3786\"], [0.5555555555555556, \"#d8576b\"], [0.6666666666666666, \"#ed7953\"], [0.7777777777777778, \"#fb9f3a\"], [0.8888888888888888, \"#fdca26\"], [1.0, \"#f0f921\"]], \"type\": \"surface\"}], \"table\": [{\"cells\": {\"fill\": {\"color\": \"#EBF0F8\"}, \"line\": {\"color\": \"white\"}}, \"header\": {\"fill\": {\"color\": \"#C8D4E3\"}, \"line\": {\"color\": \"white\"}}, \"type\": \"table\"}]}, \"layout\": {\"annotationdefaults\": {\"arrowcolor\": \"#2a3f5f\", \"arrowhead\": 0, \"arrowwidth\": 1}, \"coloraxis\": {\"colorbar\": {\"outlinewidth\": 0, \"ticks\": \"\"}}, \"colorscale\": {\"diverging\": [[0, \"#8e0152\"], [0.1, \"#c51b7d\"], [0.2, \"#de77ae\"], [0.3, \"#f1b6da\"], [0.4, \"#fde0ef\"], [0.5, \"#f7f7f7\"], [0.6, \"#e6f5d0\"], [0.7, \"#b8e186\"], [0.8, \"#7fbc41\"], [0.9, \"#4d9221\"], [1, \"#276419\"]], \"sequential\": [[0.0, \"#0d0887\"], [0.1111111111111111, \"#46039f\"], [0.2222222222222222, \"#7201a8\"], [0.3333333333333333, \"#9c179e\"], [0.4444444444444444, \"#bd3786\"], [0.5555555555555556, \"#d8576b\"], [0.6666666666666666, \"#ed7953\"], [0.7777777777777778, \"#fb9f3a\"], [0.8888888888888888, \"#fdca26\"], [1.0, \"#f0f921\"]], \"sequentialminus\": [[0.0, \"#0d0887\"], [0.1111111111111111, \"#46039f\"], [0.2222222222222222, \"#7201a8\"], [0.3333333333333333, \"#9c179e\"], [0.4444444444444444, \"#bd3786\"], [0.5555555555555556, \"#d8576b\"], [0.6666666666666666, \"#ed7953\"], [0.7777777777777778, \"#fb9f3a\"], [0.8888888888888888, \"#fdca26\"], [1.0, \"#f0f921\"]]}, \"colorway\": [\"#636efa\", \"#EF553B\", \"#00cc96\", \"#ab63fa\", \"#FFA15A\", \"#19d3f3\", \"#FF6692\", \"#B6E880\", \"#FF97FF\", \"#FECB52\"], \"font\": {\"color\": \"#2a3f5f\"}, \"geo\": {\"bgcolor\": \"white\", \"lakecolor\": \"white\", \"landcolor\": \"#E5ECF6\", \"showlakes\": true, \"showland\": true, \"subunitcolor\": \"white\"}, \"hoverlabel\": {\"align\": \"left\"}, \"hovermode\": \"closest\", \"mapbox\": {\"style\": \"light\"}, \"paper_bgcolor\": \"white\", \"plot_bgcolor\": \"#E5ECF6\", \"polar\": {\"angularaxis\": {\"gridcolor\": \"white\", \"linecolor\": \"white\", \"ticks\": \"\"}, \"bgcolor\": \"#E5ECF6\", \"radialaxis\": {\"gridcolor\": \"white\", \"linecolor\": \"white\", \"ticks\": \"\"}}, \"scene\": {\"xaxis\": {\"backgroundcolor\": \"#E5ECF6\", \"gridcolor\": \"white\", \"gridwidth\": 2, \"linecolor\": \"white\", \"showbackground\": true, \"ticks\": \"\", \"zerolinecolor\": \"white\"}, \"yaxis\": {\"backgroundcolor\": \"#E5ECF6\", \"gridcolor\": \"white\", \"gridwidth\": 2, \"linecolor\": \"white\", \"showbackground\": true, \"ticks\": \"\", \"zerolinecolor\": \"white\"}, \"zaxis\": {\"backgroundcolor\": \"#E5ECF6\", \"gridcolor\": \"white\", \"gridwidth\": 2, \"linecolor\": \"white\", \"showbackground\": true, \"ticks\": \"\", \"zerolinecolor\": \"white\"}}, \"shapedefaults\": {\"line\": {\"color\": \"#2a3f5f\"}}, \"ternary\": {\"aaxis\": {\"gridcolor\": \"white\", \"linecolor\": \"white\", \"ticks\": \"\"}, \"baxis\": {\"gridcolor\": \"white\", \"linecolor\": \"white\", \"ticks\": \"\"}, \"bgcolor\": \"#E5ECF6\", \"caxis\": {\"gridcolor\": \"white\", \"linecolor\": \"white\", \"ticks\": \"\"}}, \"title\": {\"x\": 0.05}, \"xaxis\": {\"automargin\": true, \"gridcolor\": \"white\", \"linecolor\": \"white\", \"ticks\": \"\", \"title\": {\"standoff\": 15}, \"zerolinecolor\": \"white\", \"zerolinewidth\": 2}, \"yaxis\": {\"automargin\": true, \"gridcolor\": \"white\", \"linecolor\": \"white\", \"ticks\": \"\", \"title\": {\"standoff\": 15}, \"zerolinecolor\": \"white\", \"zerolinewidth\": 2}}}},\n",
              "                        {\"responsive\": true}\n",
              "                    ).then(function(){\n",
              "                            \n",
              "var gd = document.getElementById('4a45b5dd-560b-4583-aad2-183aaeb87517');\n",
              "var x = new MutationObserver(function (mutations, observer) {{\n",
              "        var display = window.getComputedStyle(gd).display;\n",
              "        if (!display || display === 'none') {{\n",
              "            console.log([gd, 'removed!']);\n",
              "            Plotly.purge(gd);\n",
              "            observer.disconnect();\n",
              "        }}\n",
              "}});\n",
              "\n",
              "// Listen for the removal of the full notebook cells\n",
              "var notebookContainer = gd.closest('#notebook-container');\n",
              "if (notebookContainer) {{\n",
              "    x.observe(notebookContainer, {childList: true});\n",
              "}}\n",
              "\n",
              "// Listen for the clearing of the current output cell\n",
              "var outputEl = gd.closest('.output');\n",
              "if (outputEl) {{\n",
              "    x.observe(outputEl, {childList: true});\n",
              "}}\n",
              "\n",
              "                        })\n",
              "                };\n",
              "                \n",
              "            </script>\n",
              "        </div>\n",
              "</body>\n",
              "</html>"
            ]
          },
          "metadata": {
            "tags": []
          }
        }
      ]
    },
    {
      "cell_type": "code",
      "metadata": {
        "id": "_sOToaT085Nq",
        "colab_type": "code",
        "colab": {}
      },
      "source": [
        "#Now we head onto some of the basic visualizations that are there!!"
      ],
      "execution_count": null,
      "outputs": []
    },
    {
      "cell_type": "code",
      "metadata": {
        "id": "dZXmNSkO_Wpd",
        "colab_type": "code",
        "colab": {
          "base_uri": "https://localhost:8080/",
          "height": 562
        },
        "outputId": "f06e4d67-c086-43ac-cd50-1f801b1a0588"
      },
      "source": [
        "b=go.Bar(x=['Male','Female'],y=[list(data['Sex'].values).count('m'),list(data['Sex'].values).count('f')])\n",
        "go.Figure(data=b)"
      ],
      "execution_count": null,
      "outputs": [
        {
          "output_type": "display_data",
          "data": {
            "text/html": [
              "<html>\n",
              "<head><meta charset=\"utf-8\" /></head>\n",
              "<body>\n",
              "    <div>\n",
              "            <script src=\"https://cdnjs.cloudflare.com/ajax/libs/mathjax/2.7.5/MathJax.js?config=TeX-AMS-MML_SVG\"></script><script type=\"text/javascript\">if (window.MathJax) {MathJax.Hub.Config({SVG: {font: \"STIX-Web\"}});}</script>\n",
              "                <script type=\"text/javascript\">window.PlotlyConfig = {MathJaxConfig: 'local'};</script>\n",
              "        <script src=\"https://cdn.plot.ly/plotly-latest.min.js\"></script>    \n",
              "            <div id=\"05cc7543-5039-4271-b034-a9bdd5c6f4f0\" class=\"plotly-graph-div\" style=\"height:525px; width:100%;\"></div>\n",
              "            <script type=\"text/javascript\">\n",
              "                \n",
              "                    window.PLOTLYENV=window.PLOTLYENV || {};\n",
              "                    \n",
              "                if (document.getElementById(\"05cc7543-5039-4271-b034-a9bdd5c6f4f0\")) {\n",
              "                    Plotly.newPlot(\n",
              "                        '05cc7543-5039-4271-b034-a9bdd5c6f4f0',\n",
              "                        [{\"type\": \"bar\", \"x\": [\"Male\", \"Female\"], \"y\": [377, 238]}],\n",
              "                        {\"template\": {\"data\": {\"bar\": [{\"error_x\": {\"color\": \"#2a3f5f\"}, \"error_y\": {\"color\": \"#2a3f5f\"}, \"marker\": {\"line\": {\"color\": \"#E5ECF6\", \"width\": 0.5}}, \"type\": \"bar\"}], \"barpolar\": [{\"marker\": {\"line\": {\"color\": \"#E5ECF6\", \"width\": 0.5}}, \"type\": \"barpolar\"}], \"carpet\": [{\"aaxis\": {\"endlinecolor\": \"#2a3f5f\", \"gridcolor\": \"white\", \"linecolor\": \"white\", \"minorgridcolor\": \"white\", \"startlinecolor\": \"#2a3f5f\"}, \"baxis\": {\"endlinecolor\": \"#2a3f5f\", \"gridcolor\": \"white\", \"linecolor\": \"white\", \"minorgridcolor\": \"white\", \"startlinecolor\": \"#2a3f5f\"}, \"type\": \"carpet\"}], \"choropleth\": [{\"colorbar\": {\"outlinewidth\": 0, \"ticks\": \"\"}, \"type\": \"choropleth\"}], \"contour\": [{\"colorbar\": {\"outlinewidth\": 0, \"ticks\": \"\"}, \"colorscale\": [[0.0, \"#0d0887\"], [0.1111111111111111, \"#46039f\"], [0.2222222222222222, \"#7201a8\"], [0.3333333333333333, \"#9c179e\"], [0.4444444444444444, \"#bd3786\"], [0.5555555555555556, \"#d8576b\"], [0.6666666666666666, \"#ed7953\"], [0.7777777777777778, \"#fb9f3a\"], [0.8888888888888888, \"#fdca26\"], [1.0, \"#f0f921\"]], \"type\": \"contour\"}], \"contourcarpet\": [{\"colorbar\": {\"outlinewidth\": 0, \"ticks\": \"\"}, \"type\": \"contourcarpet\"}], \"heatmap\": [{\"colorbar\": {\"outlinewidth\": 0, \"ticks\": \"\"}, \"colorscale\": [[0.0, \"#0d0887\"], [0.1111111111111111, \"#46039f\"], [0.2222222222222222, \"#7201a8\"], [0.3333333333333333, \"#9c179e\"], [0.4444444444444444, \"#bd3786\"], [0.5555555555555556, \"#d8576b\"], [0.6666666666666666, \"#ed7953\"], [0.7777777777777778, \"#fb9f3a\"], [0.8888888888888888, \"#fdca26\"], [1.0, \"#f0f921\"]], \"type\": \"heatmap\"}], \"heatmapgl\": [{\"colorbar\": {\"outlinewidth\": 0, \"ticks\": \"\"}, \"colorscale\": [[0.0, \"#0d0887\"], [0.1111111111111111, \"#46039f\"], [0.2222222222222222, \"#7201a8\"], [0.3333333333333333, \"#9c179e\"], [0.4444444444444444, \"#bd3786\"], [0.5555555555555556, \"#d8576b\"], [0.6666666666666666, \"#ed7953\"], [0.7777777777777778, \"#fb9f3a\"], [0.8888888888888888, \"#fdca26\"], [1.0, \"#f0f921\"]], \"type\": \"heatmapgl\"}], \"histogram\": [{\"marker\": {\"colorbar\": {\"outlinewidth\": 0, \"ticks\": \"\"}}, \"type\": \"histogram\"}], \"histogram2d\": [{\"colorbar\": {\"outlinewidth\": 0, \"ticks\": \"\"}, \"colorscale\": [[0.0, \"#0d0887\"], [0.1111111111111111, \"#46039f\"], [0.2222222222222222, \"#7201a8\"], [0.3333333333333333, \"#9c179e\"], [0.4444444444444444, \"#bd3786\"], [0.5555555555555556, \"#d8576b\"], [0.6666666666666666, \"#ed7953\"], [0.7777777777777778, \"#fb9f3a\"], [0.8888888888888888, \"#fdca26\"], [1.0, \"#f0f921\"]], \"type\": \"histogram2d\"}], \"histogram2dcontour\": [{\"colorbar\": {\"outlinewidth\": 0, \"ticks\": \"\"}, \"colorscale\": [[0.0, \"#0d0887\"], [0.1111111111111111, \"#46039f\"], [0.2222222222222222, \"#7201a8\"], [0.3333333333333333, \"#9c179e\"], [0.4444444444444444, \"#bd3786\"], [0.5555555555555556, \"#d8576b\"], [0.6666666666666666, \"#ed7953\"], [0.7777777777777778, \"#fb9f3a\"], [0.8888888888888888, \"#fdca26\"], [1.0, \"#f0f921\"]], \"type\": \"histogram2dcontour\"}], \"mesh3d\": [{\"colorbar\": {\"outlinewidth\": 0, \"ticks\": \"\"}, \"type\": \"mesh3d\"}], \"parcoords\": [{\"line\": {\"colorbar\": {\"outlinewidth\": 0, \"ticks\": \"\"}}, \"type\": \"parcoords\"}], \"pie\": [{\"automargin\": true, \"type\": \"pie\"}], \"scatter\": [{\"marker\": {\"colorbar\": {\"outlinewidth\": 0, \"ticks\": \"\"}}, \"type\": \"scatter\"}], \"scatter3d\": [{\"line\": {\"colorbar\": {\"outlinewidth\": 0, \"ticks\": \"\"}}, \"marker\": {\"colorbar\": {\"outlinewidth\": 0, \"ticks\": \"\"}}, \"type\": \"scatter3d\"}], \"scattercarpet\": [{\"marker\": {\"colorbar\": {\"outlinewidth\": 0, \"ticks\": \"\"}}, \"type\": \"scattercarpet\"}], \"scattergeo\": [{\"marker\": {\"colorbar\": {\"outlinewidth\": 0, \"ticks\": \"\"}}, \"type\": \"scattergeo\"}], \"scattergl\": [{\"marker\": {\"colorbar\": {\"outlinewidth\": 0, \"ticks\": \"\"}}, \"type\": \"scattergl\"}], \"scattermapbox\": [{\"marker\": {\"colorbar\": {\"outlinewidth\": 0, \"ticks\": \"\"}}, \"type\": \"scattermapbox\"}], \"scatterpolar\": [{\"marker\": {\"colorbar\": {\"outlinewidth\": 0, \"ticks\": \"\"}}, \"type\": \"scatterpolar\"}], \"scatterpolargl\": [{\"marker\": {\"colorbar\": {\"outlinewidth\": 0, \"ticks\": \"\"}}, \"type\": \"scatterpolargl\"}], \"scatterternary\": [{\"marker\": {\"colorbar\": {\"outlinewidth\": 0, \"ticks\": \"\"}}, \"type\": \"scatterternary\"}], \"surface\": [{\"colorbar\": {\"outlinewidth\": 0, \"ticks\": \"\"}, \"colorscale\": [[0.0, \"#0d0887\"], [0.1111111111111111, \"#46039f\"], [0.2222222222222222, \"#7201a8\"], [0.3333333333333333, \"#9c179e\"], [0.4444444444444444, \"#bd3786\"], [0.5555555555555556, \"#d8576b\"], [0.6666666666666666, \"#ed7953\"], [0.7777777777777778, \"#fb9f3a\"], [0.8888888888888888, \"#fdca26\"], [1.0, \"#f0f921\"]], \"type\": \"surface\"}], \"table\": [{\"cells\": {\"fill\": {\"color\": \"#EBF0F8\"}, \"line\": {\"color\": \"white\"}}, \"header\": {\"fill\": {\"color\": \"#C8D4E3\"}, \"line\": {\"color\": \"white\"}}, \"type\": \"table\"}]}, \"layout\": {\"annotationdefaults\": {\"arrowcolor\": \"#2a3f5f\", \"arrowhead\": 0, \"arrowwidth\": 1}, \"coloraxis\": {\"colorbar\": {\"outlinewidth\": 0, \"ticks\": \"\"}}, \"colorscale\": {\"diverging\": [[0, \"#8e0152\"], [0.1, \"#c51b7d\"], [0.2, \"#de77ae\"], [0.3, \"#f1b6da\"], [0.4, \"#fde0ef\"], [0.5, \"#f7f7f7\"], [0.6, \"#e6f5d0\"], [0.7, \"#b8e186\"], [0.8, \"#7fbc41\"], [0.9, \"#4d9221\"], [1, \"#276419\"]], \"sequential\": [[0.0, \"#0d0887\"], [0.1111111111111111, \"#46039f\"], [0.2222222222222222, \"#7201a8\"], [0.3333333333333333, \"#9c179e\"], [0.4444444444444444, \"#bd3786\"], [0.5555555555555556, \"#d8576b\"], [0.6666666666666666, \"#ed7953\"], [0.7777777777777778, \"#fb9f3a\"], [0.8888888888888888, \"#fdca26\"], [1.0, \"#f0f921\"]], \"sequentialminus\": [[0.0, \"#0d0887\"], [0.1111111111111111, \"#46039f\"], [0.2222222222222222, \"#7201a8\"], [0.3333333333333333, \"#9c179e\"], [0.4444444444444444, \"#bd3786\"], [0.5555555555555556, \"#d8576b\"], [0.6666666666666666, \"#ed7953\"], [0.7777777777777778, \"#fb9f3a\"], [0.8888888888888888, \"#fdca26\"], [1.0, \"#f0f921\"]]}, \"colorway\": [\"#636efa\", \"#EF553B\", \"#00cc96\", \"#ab63fa\", \"#FFA15A\", \"#19d3f3\", \"#FF6692\", \"#B6E880\", \"#FF97FF\", \"#FECB52\"], \"font\": {\"color\": \"#2a3f5f\"}, \"geo\": {\"bgcolor\": \"white\", \"lakecolor\": \"white\", \"landcolor\": \"#E5ECF6\", \"showlakes\": true, \"showland\": true, \"subunitcolor\": \"white\"}, \"hoverlabel\": {\"align\": \"left\"}, \"hovermode\": \"closest\", \"mapbox\": {\"style\": \"light\"}, \"paper_bgcolor\": \"white\", \"plot_bgcolor\": \"#E5ECF6\", \"polar\": {\"angularaxis\": {\"gridcolor\": \"white\", \"linecolor\": \"white\", \"ticks\": \"\"}, \"bgcolor\": \"#E5ECF6\", \"radialaxis\": {\"gridcolor\": \"white\", \"linecolor\": \"white\", \"ticks\": \"\"}}, \"scene\": {\"xaxis\": {\"backgroundcolor\": \"#E5ECF6\", \"gridcolor\": \"white\", \"gridwidth\": 2, \"linecolor\": \"white\", \"showbackground\": true, \"ticks\": \"\", \"zerolinecolor\": \"white\"}, \"yaxis\": {\"backgroundcolor\": \"#E5ECF6\", \"gridcolor\": \"white\", \"gridwidth\": 2, \"linecolor\": \"white\", \"showbackground\": true, \"ticks\": \"\", \"zerolinecolor\": \"white\"}, \"zaxis\": {\"backgroundcolor\": \"#E5ECF6\", \"gridcolor\": \"white\", \"gridwidth\": 2, \"linecolor\": \"white\", \"showbackground\": true, \"ticks\": \"\", \"zerolinecolor\": \"white\"}}, \"shapedefaults\": {\"line\": {\"color\": \"#2a3f5f\"}}, \"ternary\": {\"aaxis\": {\"gridcolor\": \"white\", \"linecolor\": \"white\", \"ticks\": \"\"}, \"baxis\": {\"gridcolor\": \"white\", \"linecolor\": \"white\", \"ticks\": \"\"}, \"bgcolor\": \"#E5ECF6\", \"caxis\": {\"gridcolor\": \"white\", \"linecolor\": \"white\", \"ticks\": \"\"}}, \"title\": {\"x\": 0.05}, \"xaxis\": {\"automargin\": true, \"gridcolor\": \"white\", \"linecolor\": \"white\", \"ticks\": \"\", \"title\": {\"standoff\": 15}, \"zerolinecolor\": \"white\", \"zerolinewidth\": 2}, \"yaxis\": {\"automargin\": true, \"gridcolor\": \"white\", \"linecolor\": \"white\", \"ticks\": \"\", \"title\": {\"standoff\": 15}, \"zerolinecolor\": \"white\", \"zerolinewidth\": 2}}}},\n",
              "                        {\"responsive\": true}\n",
              "                    ).then(function(){\n",
              "                            \n",
              "var gd = document.getElementById('05cc7543-5039-4271-b034-a9bdd5c6f4f0');\n",
              "var x = new MutationObserver(function (mutations, observer) {{\n",
              "        var display = window.getComputedStyle(gd).display;\n",
              "        if (!display || display === 'none') {{\n",
              "            console.log([gd, 'removed!']);\n",
              "            Plotly.purge(gd);\n",
              "            observer.disconnect();\n",
              "        }}\n",
              "}});\n",
              "\n",
              "// Listen for the removal of the full notebook cells\n",
              "var notebookContainer = gd.closest('#notebook-container');\n",
              "if (notebookContainer) {{\n",
              "    x.observe(notebookContainer, {childList: true});\n",
              "}}\n",
              "\n",
              "// Listen for the clearing of the current output cell\n",
              "var outputEl = gd.closest('.output');\n",
              "if (outputEl) {{\n",
              "    x.observe(outputEl, {childList: true});\n",
              "}}\n",
              "\n",
              "                        })\n",
              "                };\n",
              "                \n",
              "            </script>\n",
              "        </div>\n",
              "</body>\n",
              "</html>"
            ]
          },
          "metadata": {
            "tags": []
          }
        }
      ]
    },
    {
      "cell_type": "markdown",
      "metadata": {
        "id": "GMpud616fWVT",
        "colab_type": "text"
      },
      "source": [
        "# **Making the Cluster For the Data**"
      ]
    },
    {
      "cell_type": "code",
      "metadata": {
        "id": "3cmECD4xBTvV",
        "colab_type": "code",
        "colab": {}
      },
      "source": [
        "# We are gonna be using the K means method"
      ],
      "execution_count": null,
      "outputs": []
    },
    {
      "cell_type": "code",
      "metadata": {
        "id": "ltXzOEvdCDl7",
        "colab_type": "code",
        "colab": {}
      },
      "source": [
        "X=data.iloc[:, [2,10]].values"
      ],
      "execution_count": null,
      "outputs": []
    },
    {
      "cell_type": "code",
      "metadata": {
        "id": "JFhM9c_MgVQj",
        "colab_type": "code",
        "colab": {}
      },
      "source": [
        "from sklearn.cluster import KMeans\n",
        "wcss=[]\n",
        "#this loop will fit the k-means algorithm to our data and \n",
        "#second we will compute the within cluster sum of squares and #appended to our wcss list.\n",
        "for i in range(1,11): \n",
        "     kmeans = KMeans(n_clusters=i, init ='k-means++', max_iter=300,  n_init=10,random_state=0 )\n",
        "     kmeans.fit(X)\n",
        "     #kmeans algorithm fits to the X dataset\n",
        "     wcss.append(kmeans.inertia_)  "
      ],
      "execution_count": null,
      "outputs": []
    },
    {
      "cell_type": "code",
      "metadata": {
        "id": "sQsmDWFygd6H",
        "colab_type": "code",
        "colab": {
          "base_uri": "https://localhost:8080/",
          "height": 295
        },
        "outputId": "cf2d977d-1a31-4541-f49e-9710724f3cff"
      },
      "source": [
        "plt.plot(range(1,11),wcss)\n",
        "plt.title('The Elbow Method Graph')\n",
        "plt.xlabel('Number of clusters')\n",
        "plt.ylabel('WCSS')\n",
        "plt.show()"
      ],
      "execution_count": null,
      "outputs": [
        {
          "output_type": "display_data",
          "data": {
            "image/png": "[encoded data removed]",
            "text/plain": [
              "<Figure size 432x288 with 1 Axes>"
            ]
          },
          "metadata": {
            "tags": [],
            "needs_background": "light"
          }
        }
      ]
    },
    {
      "cell_type": "code",
      "metadata": {
        "id": "id4P8eBrgjed",
        "colab_type": "code",
        "colab": {}
      },
      "source": [
        "kmeans = KMeans(n_clusters=3, init ='k-means++', max_iter=300, n_init=10,random_state=0 )"
      ],
      "execution_count": null,
      "outputs": []
    },
    {
      "cell_type": "code",
      "metadata": {
        "id": "h2ecb0l_g-St",
        "colab_type": "code",
        "colab": {
          "base_uri": "https://localhost:8080/",
          "height": 504
        },
        "outputId": "ffcd15eb-bc9e-42cd-cb2f-3f7dfa635663"
      },
      "source": [
        "y_kmeans = kmeans.fit_predict(X)\n",
        "y_kmeans"
      ],
      "execution_count": null,
      "outputs": [
        {
          "output_type": "execute_result",
          "data": {
            "text/plain": [
              "array([1, 1, 1, 1, 1, 1, 1, 1, 1, 1, 1, 1, 1, 1, 1, 1, 1, 1, 1, 1, 1, 1,\n",
              "       1, 1, 1, 1, 1, 1, 1, 1, 1, 1, 1, 1, 1, 1, 1, 1, 1, 1, 1, 1, 1, 1,\n",
              "       1, 1, 1, 1, 1, 1, 1, 1, 1, 1, 1, 1, 1, 1, 1, 1, 1, 1, 1, 1, 1, 1,\n",
              "       1, 1, 1, 1, 1, 1, 1, 1, 1, 1, 1, 1, 1, 1, 1, 1, 1, 1, 1, 1, 1, 1,\n",
              "       1, 1, 1, 1, 1, 1, 1, 1, 1, 1, 1, 1, 1, 1, 1, 1, 1, 1, 1, 1, 1, 1,\n",
              "       1, 1, 1, 1, 1, 1, 1, 0, 0, 0, 0, 0, 0, 0, 0, 0, 0, 0, 0, 0, 0, 0,\n",
              "       0, 0, 0, 0, 0, 0, 0, 0, 0, 0, 0, 0, 0, 0, 0, 0, 0, 0, 0, 0, 0, 0,\n",
              "       0, 0, 0, 0, 0, 0, 0, 0, 0, 0, 0, 0, 0, 0, 0, 0, 0, 0, 0, 0, 0, 0,\n",
              "       0, 0, 0, 0, 0, 0, 0, 0, 0, 0, 0, 0, 0, 0, 0, 0, 0, 0, 0, 0, 0, 0,\n",
              "       0, 0, 0, 0, 0, 0, 0, 0, 0, 0, 0, 0, 0, 0, 0, 0, 0, 0, 0, 0, 0, 0,\n",
              "       0, 0, 0, 0, 0, 0, 0, 0, 0, 0, 0, 0, 0, 0, 0, 0, 0, 0, 0, 0, 0, 0,\n",
              "       2, 2, 2, 2, 2, 2, 2, 2, 2, 2, 2, 2, 2, 2, 2, 2, 2, 2, 2, 2, 2, 2,\n",
              "       2, 2, 2, 2, 2, 2, 2, 2, 2, 2, 2, 2, 2, 2, 2, 2, 2, 2, 2, 2, 2, 2,\n",
              "       2, 2, 2, 2, 2, 2, 2, 2, 2, 2, 2, 2, 2, 2, 2, 2, 2, 2, 2, 2, 2, 2,\n",
              "       2, 2, 2, 2, 2, 2, 2, 2, 2, 2, 1, 1, 1, 1, 1, 1, 1, 1, 1, 1, 1, 1,\n",
              "       1, 1, 1, 1, 1, 1, 1, 1, 1, 1, 1, 1, 1, 1, 1, 1, 1, 1, 1, 1, 1, 1,\n",
              "       1, 1, 1, 1, 1, 1, 1, 1, 1, 1, 1, 1, 1, 1, 1, 1, 1, 1, 1, 1, 1, 1,\n",
              "       1, 1, 1, 1, 1, 0, 0, 0, 0, 0, 0, 0, 0, 0, 0, 0, 0, 0, 0, 0, 0, 0,\n",
              "       0, 0, 0, 0, 0, 0, 0, 0, 0, 0, 0, 0, 0, 0, 0, 0, 0, 0, 0, 0, 0, 0,\n",
              "       0, 0, 0, 0, 0, 0, 0, 0, 0, 0, 0, 0, 0, 0, 0, 0, 0, 0, 0, 0, 0, 0,\n",
              "       0, 0, 0, 0, 0, 0, 0, 0, 0, 0, 0, 0, 0, 0, 0, 0, 0, 0, 0, 0, 0, 0,\n",
              "       0, 0, 0, 0, 0, 0, 0, 0, 0, 0, 0, 0, 0, 0, 0, 0, 0, 0, 0, 0, 0, 0,\n",
              "       0, 0, 0, 2, 2, 2, 2, 2, 2, 2, 2, 2, 2, 2, 2, 2, 2, 2, 2, 2, 2, 2,\n",
              "       2, 2, 2, 2, 2, 2, 2, 2, 2, 2, 2, 2, 2, 2, 2, 2, 2, 2, 2, 2, 2, 2,\n",
              "       2, 2, 2, 2, 2, 0, 0, 0, 2, 2, 2, 2, 1, 1, 1, 1, 1, 1, 1, 1, 1, 1,\n",
              "       1, 1, 1, 1, 0, 0, 0, 0, 2, 2, 1, 1, 0, 2, 1, 1, 0, 0, 0, 0, 0, 0,\n",
              "       0, 2, 2, 2, 2, 1, 1, 2, 2, 0, 0, 2, 2, 1, 1, 1, 1, 0, 0, 0, 0, 0,\n",
              "       0, 2, 2, 2, 2, 2, 2, 2, 2, 2, 2, 1, 0, 0, 2, 2, 2, 2, 2, 0, 2],\n",
              "      dtype=int32)"
            ]
          },
          "metadata": {
            "tags": []
          },
          "execution_count": 46
        }
      ]
    },
    {
      "cell_type": "code",
      "metadata": {
        "id": "3vcf5SvrhAhU",
        "colab_type": "code",
        "colab": {
          "base_uri": "https://localhost:8080/",
          "height": 284
        },
        "outputId": "c89e98e7-4408-4c94-8a34-10d9af836a58"
      },
      "source": [
        "plt.scatter(X[y_kmeans==0, 0], X[y_kmeans==0, 1], s=100, c='red', label ='Cluster 1')\n",
        "plt.scatter(X[y_kmeans==1, 0], X[y_kmeans==1, 1], s=100, c='blue', label ='Cluster 2')\n",
        "plt.scatter(X[y_kmeans==2, 0], X[y_kmeans==2, 1], s=100, c='green', label ='Cluster 3')"
      ],
      "execution_count": null,
      "outputs": [
        {
          "output_type": "execute_result",
          "data": {
            "text/plain": [
              "<matplotlib.collections.PathCollection at 0x7fbc89aa9400>"
            ]
          },
          "metadata": {
            "tags": []
          },
          "execution_count": 44
        },
        {
          "output_type": "display_data",
          "data": {
            "image/png": "[encoded data removed]",
            "text/plain": [
              "<Figure size 432x288 with 1 Axes>"
            ]
          },
          "metadata": {
            "tags": [],
            "needs_background": "light"
          }
        }
      ]
    },
    {
      "cell_type": "markdown",
      "metadata": {
        "id": "9F3y2TGKhdMi",
        "colab_type": "text"
      },
      "source": [
        "In this method we were just using 2 features for the clustering .But lets consider 3 of the features now and try to predict on the basis of that and also visualize it."
      ]
    },
    {
      "cell_type": "markdown",
      "metadata": {
        "id": "jo0GqYzLhoeW",
        "colab_type": "text"
      },
      "source": [
        "# **Clustering With 3 Features and its Visualization**"
      ]
    },
    {
      "cell_type": "code",
      "metadata": {
        "id": "79zjI5OshECt",
        "colab_type": "code",
        "colab": {}
      },
      "source": [
        "X=data.iloc[:,[2,5,10]].values"
      ],
      "execution_count": null,
      "outputs": []
    },
    {
      "cell_type": "code",
      "metadata": {
        "id": "FgevOMGah8Rt",
        "colab_type": "code",
        "colab": {}
      },
      "source": [
        "w=[]\n",
        "for i in range(1,11):\n",
        "  kmean=KMeans(n_clusters=i)\n",
        "  kmean.fit(X)\n",
        "  w.append(kmean.inertia_)"
      ],
      "execution_count": null,
      "outputs": []
    },
    {
      "cell_type": "code",
      "metadata": {
        "id": "9z7XRxmXiRXK",
        "colab_type": "code",
        "colab": {
          "base_uri": "https://localhost:8080/",
          "height": 295
        },
        "outputId": "b5eef4da-b618-4a80-fe08-0f5afc6f4caf"
      },
      "source": [
        "plt.plot(range(1,11),w,'bx-')\n",
        "plt.title('The Elbow Method Graph')\n",
        "plt.xlabel('Number of clusters')\n",
        "plt.ylabel('WCSS')\n",
        "plt.show()"
      ],
      "execution_count": null,
      "outputs": [
        {
          "output_type": "display_data",
          "data": {
            "image/png": "[encoded data removed]",
            "text/plain": [
              "<Figure size 432x288 with 1 Axes>"
            ]
          },
          "metadata": {
            "tags": [],
            "needs_background": "light"
          }
        }
      ]
    },
    {
      "cell_type": "code",
      "metadata": {
        "id": "WQY23R0Pib1m",
        "colab_type": "code",
        "colab": {}
      },
      "source": [
        "kmean=KMeans(n_clusters=5)\n",
        "kmean.fit(X)\n",
        "y=kmean.predict(X)\n"
      ],
      "execution_count": null,
      "outputs": []
    },
    {
      "cell_type": "code",
      "metadata": {
        "id": "WLdv6kPikTPe",
        "colab_type": "code",
        "colab": {
          "base_uri": "https://localhost:8080/",
          "height": 248
        },
        "outputId": "718383ac-a2c4-4f22-a473-b8c2d5cde0b3"
      },
      "source": [
        "fig = plt.figure()\n",
        "ax = plt.axes(projection='3d')"
      ],
      "execution_count": null,
      "outputs": [
        {
          "output_type": "display_data",
          "data": {
            "image/png": "[encoded data removed]",
            "text/plain": [
              "<Figure size 432x288 with 1 Axes>"
            ]
          },
          "metadata": {
            "tags": [],
            "needs_background": "light"
          }
        }
      ]
    },
    {
      "cell_type": "code",
      "metadata": {
        "id": "mpwq8RdykunG",
        "colab_type": "code",
        "colab": {
          "base_uri": "https://localhost:8080/",
          "height": 542
        },
        "outputId": "8efe8e94-5068-4e43-8b3f-44032104a907"
      },
      "source": [
        "plotly.express.scatter_3d(data_frame=data,x='ALP',y='CHOL',z='Age',color=y)"
      ],
      "execution_count": null,
      "outputs": [
        {
          "output_type": "display_data",
          "data": {
            "text/html": [
              "<html>\n",
              "<head><meta charset=\"utf-8\" /></head>\n",
              "<body>\n",
              "    <div>\n",
              "            <script src=\"https://cdnjs.cloudflare.com/ajax/libs/mathjax/2.7.5/MathJax.js?config=TeX-AMS-MML_SVG\"></script><script type=\"text/javascript\">if (window.MathJax) {MathJax.Hub.Config({SVG: {font: \"STIX-Web\"}});}</script>\n",
              "                <script type=\"text/javascript\">window.PlotlyConfig = {MathJaxConfig: 'local'};</script>\n",
              "        <script src=\"https://cdn.plot.ly/plotly-latest.min.js\"></script>    \n",
              "            <div id=\"4736f82f-41a5-4f8c-903f-84beffa0534b\" class=\"plotly-graph-div\" style=\"height:525px; width:100%;\"></div>\n",
              "            <script type=\"text/javascript\">\n",
              "                \n",
              "                    window.PLOTLYENV=window.PLOTLYENV || {};\n",
              "                    \n",
              "                if (document.getElementById(\"4736f82f-41a5-4f8c-903f-84beffa0534b\")) {\n",
              "                    Plotly.newPlot(\n",
              "                        '4736f82f-41a5-4f8c-903f-84beffa0534b',\n",
              "                        [{\"hoverlabel\": {\"namelength\": 0}, \"hovertemplate\": \"ALP=%{x}<br>CHOL=%{y}<br>Age=%{z}<br>color=%{marker.color}\", \"legendgroup\": \"\", \"marker\": {\"color\": [3, 0, 0, 3, 0, 3, 3, 3, 0, 2, 3, 0, 0, 3, 3, 0, 0, 2, 0, 0, 3, 2, 0, 3, 3, 0, 3, 3, 2, 0, 0, 0, 0, 0, 0, 0, 1, 0, 2, 0, 3, 2, 2, 0, 0, 0, 0, 0, 0, 2, 0, 3, 2, 2, 0, 0, 0, 0, 2, 0, 2, 0, 3, 3, 0, 0, 1, 0, 3, 0, 0, 0, 3, 0, 3, 0, 3, 3, 2, 0, 0, 3, 0, 0, 2, 3, 3, 0, 2, 2, 0, 0, 0, 3, 0, 0, 0, 0, 3, 0, 2, 0, 0, 0, 3, 2, 0, 0, 0, 3, 2, 0, 3, 2, 0, 2, 0, 2, 1, 2, 0, 3, 3, 0, 0, 0, 3, 0, 2, 1, 2, 2, 2, 2, 0, 0, 3, 3, 0, 2, 2, 0, 0, 0, 0, 0, 0, 0, 3, 3, 2, 0, 3, 2, 0, 3, 2, 3, 2, 0, 2, 0, 0, 0, 3, 0, 2, 3, 0, 0, 3, 3, 0, 0, 0, 0, 2, 2, 0, 2, 3, 0, 2, 0, 0, 3, 0, 2, 2, 0, 0, 0, 2, 0, 2, 0, 2, 0, 0, 3, 0, 0, 0, 0, 2, 1, 0, 2, 2, 0, 2, 0, 0, 0, 0, 0, 2, 0, 2, 3, 0, 2, 0, 0, 0, 0, 3, 2, 0, 2, 2, 1, 2, 3, 2, 0, 0, 0, 0, 0, 0, 2, 0, 3, 2, 3, 2, 0, 0, 0, 0, 0, 2, 3, 3, 3, 3, 0, 3, 0, 0, 2, 2, 0, 2, 0, 0, 1, 2, 0, 3, 0, 3, 3, 2, 3, 0, 3, 0, 0, 2, 0, 0, 0, 2, 0, 3, 2, 3, 2, 0, 0, 2, 2, 0, 0, 2, 2, 0, 0, 2, 3, 2, 2, 2, 0, 0, 2, 2, 2, 0, 2, 2, 0, 2, 3, 2, 3, 3, 3, 3, 0, 0, 3, 0, 3, 0, 3, 2, 1, 0, 3, 2, 0, 0, 3, 3, 0, 0, 3, 0, 3, 0, 0, 0, 3, 3, 0, 3, 3, 2, 2, 0, 3, 0, 3, 0, 3, 3, 0, 0, 2, 0, 2, 0, 2, 0, 0, 0, 3, 3, 3, 0, 3, 0, 3, 0, 3, 0, 0, 3, 3, 2, 0, 2, 0, 0, 3, 3, 0, 0, 2, 2, 0, 2, 0, 0, 3, 2, 0, 0, 2, 3, 3, 2, 0, 0, 0, 3, 0, 0, 0, 0, 0, 3, 0, 0, 1, 2, 3, 3, 3, 3, 0, 2, 3, 3, 0, 0, 3, 2, 0, 3, 2, 0, 3, 0, 3, 1, 0, 2, 0, 3, 3, 3, 0, 3, 2, 0, 2, 3, 0, 0, 2, 3, 0, 0, 3, 1, 2, 0, 3, 1, 0, 2, 3, 3, 0, 2, 2, 2, 2, 0, 0, 2, 2, 2, 0, 2, 2, 0, 2, 3, 0, 3, 0, 2, 2, 2, 0, 2, 0, 2, 2, 2, 3, 2, 2, 2, 2, 0, 2, 2, 3, 0, 0, 0, 0, 2, 3, 2, 2, 2, 0, 2, 2, 2, 2, 3, 2, 0, 3, 2, 0, 3, 0, 0, 2, 0, 3, 2, 2, 2, 1, 1, 3, 2, 0, 2, 1, 0, 3, 3, 3, 3, 3, 3, 3, 3, 3, 3, 3, 3, 3, 3, 0, 3, 3, 1, 2, 3, 3, 3, 3, 3, 3, 3, 3, 3, 3, 3, 3, 3, 3, 3, 3, 3, 3, 3, 3, 3, 3, 0, 2, 2, 1, 1, 2, 0, 3, 0, 1, 2, 0, 3, 2, 2, 3, 1, 3, 0, 2, 2, 0, 3, 2, 1, 3, 3, 3, 4, 2, 2, 2, 2], \"coloraxis\": \"coloraxis\", \"symbol\": \"circle\"}, \"mode\": \"markers\", \"name\": \"\", \"scene\": \"scene\", \"showlegend\": false, \"type\": \"scatter3d\", \"x\": [52.5, 70.3, 74.7, 52.0, 74.1, 43.3, 41.3, 41.9, 65.5, 86.3, 52.3, 68.2, 78.6, 51.7, 39.8, 65.0, 73.0, 88.3, 57.1, 63.1, 49.8, 88.3, 65.3, 46.1, 32.4, 77.7, 27.0, 41.6, 84.1, 61.7, 75.8, 70.6, 58.9, 69.8, 68.3, 79.3, 115.1, 72.7, 92.2, 70.3, 54.5, 82.7, 99.0, 58.5, 57.6, 77.2, 58.8, 65.0, 66.4, 89.0, 65.3, 47.3, 82.8, 106.0, 70.7, 57.4, 64.6, 68.8, 94.3, 61.2, 84.5, 77.5, 44.3, 48.5, 64.0, 61.8, 118.9, 72.8, 53.3, 62.3, 63.2, 62.9, 50.2, 58.9, 43.8, 69.4, 42.7, 44.9, 81.5, 61.7, 63.9, 52.5, 66.5, 71.3, 90.1, 48.6, 36.5, 73.4, 80.2, 102.9, 62.5, 77.1, 68.0, 45.7, 67.5, 74.2, 66.5, 63.4, 52.9, 61.8, 86.8, 63.9, 55.9, 69.0, 48.2, 79.0, 74.9, 75.1, 55.3, 46.8, 78.6, 71.4, 43.7, 88.7, 68.7, 83.7, 57.7, 82.0, 126.0, 99.3, 67.3, 45.0, 50.7, 61.8, 75.6, 76.9, 40.7, 59.4, 84.9, 110.8, 93.6, 105.7, 81.7, 84.3, 73.5, 71.6, 43.9, 53.9, 63.2, 77.8, 102.6, 73.2, 68.2, 64.4, 77.0, 71.5, 75.4, 61.6, 49.2, 40.3, 79.9, 65.6, 51.6, 98.0, 60.0, 41.0, 80.1, 48.2, 91.6, 55.9, 82.6, 59.3, 61.0, 75.2, 42.8, 66.5, 81.6, 52.9, 59.3, 63.0, 51.6, 44.8, 56.4, 61.2, 69.2, 59.9, 94.9, 83.9, 56.4, 94.7, 41.2, 58.1, 88.5, 69.1, 64.1, 34.6, 62.1, 77.3, 96.0, 60.2, 63.3, 73.8, 84.1, 67.9, 87.8, 66.3, 82.5, 62.6, 76.2, 51.0, 59.4, 70.5, 56.9, 73.7, 96.5, 145.0, 54.8, 98.5, 78.1, 69.1, 84.3, 66.7, 56.0, 69.4, 72.6, 72.2, 82.2, 63.6, 85.5, 43.5, 73.6, 78.6, 67.4, 72.2, 61.4, 59.1, 53.0, 104.0, 61.2, 86.0, 98.1, 119.7, 76.1, 45.3, 82.5, 71.8, 74.7, 70.2, 67.0, 75.1, 72.0, 100.4, 60.0, 45.8, 92.6, 44.9, 87.1, 71.9, 65.5, 71.6, 59.5, 62.9, 97.9, 50.0, 49.2, 45.6, 37.1, 56.3, 45.3, 64.5, 56.2, 86.8, 80.1, 56.0, 79.3, 58.9, 55.8, 115.4, 106.5, 72.4, 49.4, 61.2, 50.3, 46.6, 83.7, 48.8, 59.7, 46.8, 71.5, 67.2, 89.4, 73.3, 70.1, 60.5, 104.9, 59.5, 51.4, 98.0, 42.7, 76.5, 59.6, 71.3, 74.3, 75.9, 66.7, 72.5, 87.8, 81.8, 64.8, 66.2, 99.4, 45.8, 104.0, 76.0, 79.6, 58.3, 61.4, 72.8, 86.5, 83.8, 71.1, 76.7, 85.7, 63.5, 87.9, 48.9, 97.1, 52.2, 35.2, 52.5, 42.8, 66.2, 77.5, 51.7, 74.0, 35.2, 61.1, 54.4, 95.5, 137.2, 72.0, 53.5, 82.2, 73.1, 73.7, 36.3, 47.4, 63.2, 70.9, 52.3, 76.9, 39.3, 62.6, 72.4, 62.6, 38.2, 51.2, 69.0, 51.3, 50.8, 88.7, 83.2, 69.1, 52.0, 59.0, 55.1, 58.1, 47.5, 47.3, 73.5, 56.2, 92.1, 61.9, 87.2, 79.3, 106.0, 59.2, 55.3, 60.4, 42.4, 54.7, 50.2, 75.7, 51.3, 67.9, 48.3, 67.9, 54.0, 64.1, 77.1, 41.4, 38.2, 83.1, 63.0, 80.7, 58.8, 57.5, 40.9, 28.9, 57.6, 60.0, 86.1, 103.3, 65.7, 86.5, 76.4, 71.0, 54.9, 92.2, 56.0, 62.4, 87.5, 49.1, 54.3, 78.2, 59.8, 66.3, 62.3, 50.8, 71.3, 56.5, 70.1, 73.9, 55.1, 47.5, 61.9, 59.5, 113.2, 84.1, 37.5, 43.4, 42.0, 54.1, 65.0, 107.2, 45.4, 51.0, 66.3, 71.8, 40.6, 88.3, 65.9, 50.1, 93.3, 62.2, 52.5, 64.5, 43.9, 120.2, 58.4, 89.4, 59.4, 31.3, 37.9, 45.9, 71.5, 50.6, 77.2, 74.0, 80.5, 45.6, 63.0, 70.5, 80.7, 52.9, 63.5, 67.7, 52.2, 136.9, 81.2, 71.0, 43.0, 117.3, 61.3, 78.2, 52.0, 47.2, 58.3, 89.7, 81.8, 87.6, 77.4, 70.3, 55.0, 76.0, 84.6, 84.3, 61.7, 91.7, 84.7, 66.9, 84.1, 30.7, 72.9, 53.4, 61.2, 76.5, 86.1, 101.3, 69.6, 83.6, 66.0, 86.9, 90.3, 102.3, 54.3, 79.1, 83.8, 94.4, 83.5, 57.1, 80.9, 85.1, 50.3, 62.8, 56.9, 60.6, 62.9, 91.4, 52.5, 74.8, 82.4, 78.0, 68.4, 86.0, 75.5, 88.2, 80.7, 51.4, 85.1, 66.4, 47.5, 82.5, 59.7, 46.6, 59.9, 67.6, 85.7, 68.1, 52.7, 74.3, 102.3, 97.9, 124.0, 116.9, 42.2, 106.0, 69.8, 84.0, 208.2, 56.3, 37.7, 19.1, 38.2, 27.5, 29.866666666666667, 32.233333333333334, 34.6, 34.4, 36.7, 37.9, 32.9, 20.6, 39.6, 27.3, 59.5, 41.6, 37.2, 114.0, 99.1, 29.6, 31.2, 32.7, 34.4, 43.1, 43.1, 26.9, 45.2, 44.52, 43.84, 43.16, 42.48, 41.8, 29.7, 34.5, 35.7, 37.5, 39.3, 39.8, 52.1, 22.9, 42.05, 61.2, 80.35, 99.5, 118.65, 137.8, 85.3, 69.6, 11.3, 60.45, 109.6, 87.8, 66.0, 29.6, 81.1, 105.6, 40.4, 143.1, 49.7, 73.8, 86.3, 102.9, 68.5, 34.1, 79.0, 190.7, 37.0, 46.4, 51.3, 416.6, 102.8, 87.3, 87.3, 87.3], \"y\": [3.23, 4.8, 5.2, 4.74, 4.32, 6.05, 4.79, 4.6, 4.1, 4.45, 3.57, 4.3, 5.38, 3.38, 4.97, 4.43, 5.22, 5.51, 5.5, 4.05, 5.59, 4.62, 5.06, 3.62, 4.56, 5.59, 6.79, 4.03, 5.07, 4.6, 5.94, 4.2, 4.99, 5.73, 4.63, 7.04, 4.33, 3.8, 5.9, 4.69, 6.23, 5.44, 4.27, 5.07, 4.06, 5.63, 4.89, 7.35, 5.81, 5.62, 4.38, 5.29, 5.1, 5.3, 6.8, 6.17, 3.97, 6.42, 4.12, 4.63, 6.59, 4.36, 5.05, 4.93, 5.4, 5.1, 4.26, 4.88, 5.9, 4.02, 3.87, 7.01, 5.88, 5.74, 3.91, 4.14, 4.74, 7.51, 5.46, 6.05, 5.24, 6.26, 6.26, 4.66, 4.64, 5.55, 4.85, 4.41, 6.85, 8.89, 4.78, 8.11, 6.09, 4.49, 6.02, 6.29, 4.91, 4.74, 6.85, 5.09, 6.23, 4.13, 3.29, 4.55, 5.56, 5.9, 4.23, 5.57, 5.88, 6.28, 6.15, 7.3, 4.78, 6.76, 5.62, 5.07, 8.6, 4.96, 5.3, 5.92, 5.27, 4.994999999999999, 4.72, 7.84, 4.71, 9.43, 5.41, 4.93, 4.68, 5.12, 4.59, 6.02, 6.65, 5.42, 6.68, 4.46, 5.85, 4.87, 7.29, 5.58, 5.98, 5.31, 6.61, 4.25, 6.27, 5.35, 6.25, 6.13, 5.85, 4.66, 5.38, 4.72, 5.19, 7.42, 5.02, 5.35, 4.68, 3.71, 6.73, 4.95, 7.4, 5.1, 5.66, 5.96, 4.86, 5.06, 5.95, 5.15, 5.56, 5.23, 4.29, 4.44, 6.3, 5.25, 6.76, 6.29, 5.36, 6.14, 5.65, 4.27, 6.37, 5.7, 6.25, 5.07, 8.28, 6.97, 4.82, 4.98, 5.61, 5.68, 4.49, 5.31, 4.65, 6.23, 6.46, 5.73, 5.95, 6.42, 4.55, 5.75, 6.56, 4.06, 5.8, 6.06, 5.66, 8.8, 4.65, 6.08, 6.54, 5.07, 4.68, 5.61, 5.93, 4.14, 7.2, 6.29, 6.09, 5.35, 6.56, 5.0, 4.94, 5.22, 4.97, 6.92, 6.66, 4.5, 7.22, 4.6, 5.0, 4.0, 4.42, 8.78, 6.96, 5.78, 6.28, 6.24, 5.2, 6.24, 5.98, 7.43, 5.79, 7.29, 7.3, 7.73, 5.73, 4.55, 6.33, 4.63, 4.39, 4.61, 5.22, 6.75, 6.61, 5.37, 5.3, 6.4, 4.93, 4.69, 6.04, 3.97, 5.99, 4.91, 5.31, 6.33, 5.07, 5.7, 6.41, 4.46, 4.86, 3.09, 3.69, 6.89, 4.33, 5.47, 5.07, 5.6, 6.2, 5.42, 5.31, 4.65, 6.01, 4.95, 4.58, 7.62, 5.42, 5.23, 5.25, 5.52, 3.81, 5.74, 6.18, 4.69, 6.35, 6.69, 6.37, 6.47, 7.7, 5.84, 4.03, 5.91, 6.31, 6.23, 4.69, 4.17, 5.48, 6.8, 6.66, 7.02, 6.43, 5.53, 6.64, 4.15, 3.96, 4.74, 6.31, 2.79, 5.56, 4.41, 4.37, 4.0600000000000005, 3.75, 4.38, 5.26, 5.02, 3.34, 5.22, 4.93, 5.69, 5.57, 4.91, 4.25, 4.48, 3.92, 3.22, 6.36, 4.94, 4.61, 5.17, 5.59, 6.28, 5.1, 4.68, 5.9, 4.13, 5.07, 4.69, 4.62, 4.43, 4.91, 5.7, 4.79, 5.73, 5.62, 4.18, 5.51, 5.05, 5.8, 4.36, 3.95, 5.52, 6.06, 3.97, 3.61, 5.73, 4.58, 5.3, 4.55, 5.32, 4.57, 6.74, 5.25, 4.92, 6.01, 4.24, 4.33, 5.18, 5.02, 4.43, 4.87, 4.49, 6.05, 5.44, 9.03, 4.94, 5.55, 6.08, 5.37, 3.96, 4.45, 6.68, 5.29, 4.72, 5.04, 6.13, 5.9, 4.27, 4.43, 5.42, 5.38, 5.48, 5.05, 4.56, 2.86, 5.29, 4.73, 6.42, 5.88, 4.07, 5.85, 6.94, 5.19, 6.03, 5.11, 4.765000000000001, 4.42, 7.09, 5.3, 4.83, 5.62, 5.59, 4.6, 5.47, 5.1, 4.55, 4.449999999999999, 4.35, 6.66, 5.23, 5.84, 4.64, 4.68, 6.14, 5.38, 5.48, 5.58, 6.78, 4.05, 5.31, 7.11, 5.99, 8.36, 4.58, 5.1, 5.88, 6.81, 5.91, 7.01, 6.41, 6.33, 7.41, 6.54, 5.95, 4.73, 5.26, 5.43, 6.97, 4.94, 6.76, 6.24, 6.56, 3.25, 4.96, 6.59, 6.04, 6.04, 5.41, 5.69, 4.33, 7.04, 5.9, 6.98, 7.8, 6.17, 4.26, 6.38, 5.16, 6.65, 6.97, 5.48, 4.82, 6.03, 5.62, 4.95, 4.91, 5.55, 5.47, 6.77, 5.05, 5.86, 4.43, 7.67, 5.88, 6.02, 5.45, 5.5, 3.87, 5.1, 6.06, 7.26, 8.46, 5.93, 5.1, 6.66, 5.06, 7.08, 6.9, 4.9, 6.25, 5.51, 3.53, 6.71, 7.43, 7.32, 6.38, 4.9, 4.56, 5.0, 6.94, 6.79, 5.34, 6.55, 5.81, 7.12, 7.45, 4.59, 6.08, 6.88, 3.96, 7.58, 6.0, 5.76, 6.79, 5.08, 4.3, 5.25, 3.01, 8.08, 2.61, 3.19, 4.72, 6.0, 3.9, 3.2, 4.28, 3.2, 3.6, 6.1, 6.28, 5.48, 5.37, 4.14, 5.73, 4.89, 9.67, 4.07, 4.65, 7.04, 5.23, 3.09, 6.15, 5.72, 5.3, 4.67, 4.62, 5.42, 4.2, 4.01, 4.22, 3.5, 5.2, 4.7, 4.0, 5.85, 4.64, 4.45, 4.52, 4.7, 4.81, 4.31, 6.19, 4.89, 3.1, 4.2, 5.0, 4.1, 3.2, 4.82, 5.34, 3.93, 3.71, 3.905, 4.1, 5.5, 3.6, 4.08, 3.54, 2.4, 1.43, 3.92, 3.68, 3.61, 3.51, 4.88, 4.085, 3.29, 5.16, 3.82, 3.78, 3.98, 4.51, 6.3, 3.02, 3.63, 4.2, 5.3], \"z\": [32, 32, 32, 32, 32, 32, 32, 32, 32, 32, 32, 33, 33, 33, 33, 33, 33, 33, 33, 33, 33, 33, 34, 34, 34, 34, 34, 34, 34, 34, 34, 34, 34, 35, 35, 35, 35, 35, 35, 35, 35, 35, 35, 36, 36, 36, 36, 36, 36, 36, 36, 36, 36, 37, 37, 37, 37, 37, 37, 37, 37, 37, 37, 37, 37, 37, 37, 37, 37, 37, 38, 38, 38, 38, 38, 38, 38, 38, 38, 38, 39, 39, 39, 39, 39, 39, 39, 39, 39, 39, 39, 39, 40, 40, 40, 40, 40, 40, 40, 40, 41, 41, 41, 41, 41, 41, 41, 41, 42, 42, 42, 42, 42, 42, 42, 42, 42, 43, 43, 43, 43, 43, 43, 43, 43, 43, 43, 43, 44, 44, 44, 44, 44, 44, 44, 44, 44, 44, 45, 45, 45, 45, 45, 45, 45, 45, 45, 46, 46, 46, 46, 46, 46, 46, 46, 46, 46, 46, 46, 46, 46, 47, 47, 47, 47, 47, 47, 47, 47, 47, 47, 47, 47, 47, 48, 48, 48, 48, 48, 48, 48, 48, 48, 48, 48, 48, 49, 49, 49, 49, 49, 49, 49, 49, 50, 50, 50, 50, 50, 50, 50, 50, 50, 50, 50, 50, 51, 51, 51, 51, 51, 51, 51, 51, 52, 52, 52, 52, 52, 52, 52, 52, 52, 52, 52, 52, 53, 53, 53, 53, 53, 53, 53, 53, 53, 53, 54, 54, 54, 54, 54, 54, 55, 55, 55, 55, 55, 55, 55, 55, 55, 56, 56, 56, 56, 56, 56, 56, 56, 57, 57, 57, 57, 58, 58, 58, 58, 59, 59, 59, 59, 59, 59, 59, 59, 60, 60, 60, 60, 60, 60, 61, 61, 61, 61, 61, 62, 62, 62, 62, 63, 63, 63, 64, 64, 64, 64, 65, 65, 65, 65, 65, 65, 66, 66, 66, 66, 67, 67, 67, 68, 68, 70, 70, 71, 76, 76, 77, 32, 32, 32, 32, 33, 33, 33, 33, 33, 33, 33, 33, 33, 33, 33, 33, 33, 34, 34, 34, 34, 34, 34, 34, 35, 35, 35, 35, 35, 35, 35, 35, 35, 35, 36, 36, 36, 36, 37, 37, 37, 38, 38, 38, 38, 38, 38, 39, 39, 40, 40, 40, 40, 40, 41, 41, 41, 41, 41, 42, 42, 43, 43, 43, 43, 43, 43, 43, 43, 43, 44, 44, 44, 44, 44, 44, 44, 44, 44, 45, 45, 45, 45, 45, 45, 45, 45, 45, 46, 46, 46, 46, 46, 46, 46, 46, 46, 46, 46, 46, 46, 47, 47, 47, 47, 47, 48, 48, 48, 48, 48, 48, 48, 48, 48, 48, 48, 48, 48, 48, 49, 49, 49, 49, 49, 49, 49, 49, 50, 50, 50, 50, 50, 50, 51, 51, 51, 51, 51, 51, 51, 51, 51, 51, 51, 51, 52, 52, 52, 52, 52, 52, 52, 52, 52, 53, 53, 53, 53, 53, 53, 53, 53, 53, 54, 54, 54, 54, 54, 55, 55, 55, 55, 56, 56, 56, 56, 56, 56, 56, 57, 57, 57, 57, 57, 57, 57, 57, 57, 57, 58, 58, 58, 59, 59, 59, 60, 60, 60, 60, 60, 60, 61, 61, 62, 62, 62, 63, 63, 63, 64, 64, 65, 68, 70, 47, 48, 49, 55, 71, 74, 59, 38, 19, 23, 25, 27, 29, 30, 32, 32, 34, 35, 36, 38, 41, 44, 46, 50, 51, 56, 58, 33, 41, 50, 61, 29, 40, 46, 48, 49, 49, 50, 53, 54, 57, 59, 64, 71, 36, 38, 57, 68, 49, 51, 56, 75, 38, 39, 41, 42, 45, 46, 46, 47, 51, 51, 56, 56, 56, 58, 59, 59, 59, 61, 65, 74, 42, 49, 52, 58, 59, 62, 64, 64, 46, 59]}],\n",
              "                        {\"coloraxis\": {\"colorbar\": {\"title\": {\"text\": \"color\"}}, \"colorscale\": [[0.0, \"#0d0887\"], [0.1111111111111111, \"#46039f\"], [0.2222222222222222, \"#7201a8\"], [0.3333333333333333, \"#9c179e\"], [0.4444444444444444, \"#bd3786\"], [0.5555555555555556, \"#d8576b\"], [0.6666666666666666, \"#ed7953\"], [0.7777777777777778, \"#fb9f3a\"], [0.8888888888888888, \"#fdca26\"], [1.0, \"#f0f921\"]]}, \"legend\": {\"tracegroupgap\": 0}, \"margin\": {\"t\": 60}, \"scene\": {\"domain\": {\"x\": [0.0, 1.0], \"y\": [0.0, 1.0]}, \"xaxis\": {\"title\": {\"text\": \"ALP\"}}, \"yaxis\": {\"title\": {\"text\": \"CHOL\"}}, \"zaxis\": {\"title\": {\"text\": \"Age\"}}}, \"template\": {\"data\": {\"bar\": [{\"error_x\": {\"color\": \"#2a3f5f\"}, \"error_y\": {\"color\": \"#2a3f5f\"}, \"marker\": {\"line\": {\"color\": \"#E5ECF6\", \"width\": 0.5}}, \"type\": \"bar\"}], \"barpolar\": [{\"marker\": {\"line\": {\"color\": \"#E5ECF6\", \"width\": 0.5}}, \"type\": \"barpolar\"}], \"carpet\": [{\"aaxis\": {\"endlinecolor\": \"#2a3f5f\", \"gridcolor\": \"white\", \"linecolor\": \"white\", \"minorgridcolor\": \"white\", \"startlinecolor\": \"#2a3f5f\"}, \"baxis\": {\"endlinecolor\": \"#2a3f5f\", \"gridcolor\": \"white\", \"linecolor\": \"white\", \"minorgridcolor\": \"white\", \"startlinecolor\": \"#2a3f5f\"}, \"type\": \"carpet\"}], \"choropleth\": [{\"colorbar\": {\"outlinewidth\": 0, \"ticks\": \"\"}, \"type\": \"choropleth\"}], \"contour\": [{\"colorbar\": {\"outlinewidth\": 0, \"ticks\": \"\"}, \"colorscale\": [[0.0, \"#0d0887\"], [0.1111111111111111, \"#46039f\"], [0.2222222222222222, \"#7201a8\"], [0.3333333333333333, \"#9c179e\"], [0.4444444444444444, \"#bd3786\"], [0.5555555555555556, \"#d8576b\"], [0.6666666666666666, \"#ed7953\"], [0.7777777777777778, \"#fb9f3a\"], [0.8888888888888888, \"#fdca26\"], [1.0, \"#f0f921\"]], \"type\": \"contour\"}], \"contourcarpet\": [{\"colorbar\": {\"outlinewidth\": 0, \"ticks\": \"\"}, \"type\": \"contourcarpet\"}], \"heatmap\": [{\"colorbar\": {\"outlinewidth\": 0, \"ticks\": \"\"}, \"colorscale\": [[0.0, \"#0d0887\"], [0.1111111111111111, \"#46039f\"], [0.2222222222222222, \"#7201a8\"], [0.3333333333333333, \"#9c179e\"], [0.4444444444444444, \"#bd3786\"], [0.5555555555555556, \"#d8576b\"], [0.6666666666666666, \"#ed7953\"], [0.7777777777777778, \"#fb9f3a\"], [0.8888888888888888, \"#fdca26\"], [1.0, \"#f0f921\"]], \"type\": \"heatmap\"}], \"heatmapgl\": [{\"colorbar\": {\"outlinewidth\": 0, \"ticks\": \"\"}, \"colorscale\": [[0.0, \"#0d0887\"], [0.1111111111111111, \"#46039f\"], [0.2222222222222222, \"#7201a8\"], [0.3333333333333333, \"#9c179e\"], [0.4444444444444444, \"#bd3786\"], [0.5555555555555556, \"#d8576b\"], [0.6666666666666666, \"#ed7953\"], [0.7777777777777778, \"#fb9f3a\"], [0.8888888888888888, \"#fdca26\"], [1.0, \"#f0f921\"]], \"type\": \"heatmapgl\"}], \"histogram\": [{\"marker\": {\"colorbar\": {\"outlinewidth\": 0, \"ticks\": \"\"}}, \"type\": \"histogram\"}], \"histogram2d\": [{\"colorbar\": {\"outlinewidth\": 0, \"ticks\": \"\"}, \"colorscale\": [[0.0, \"#0d0887\"], [0.1111111111111111, \"#46039f\"], [0.2222222222222222, \"#7201a8\"], [0.3333333333333333, \"#9c179e\"], [0.4444444444444444, \"#bd3786\"], [0.5555555555555556, \"#d8576b\"], [0.6666666666666666, \"#ed7953\"], [0.7777777777777778, \"#fb9f3a\"], [0.8888888888888888, \"#fdca26\"], [1.0, \"#f0f921\"]], \"type\": \"histogram2d\"}], \"histogram2dcontour\": [{\"colorbar\": {\"outlinewidth\": 0, \"ticks\": \"\"}, \"colorscale\": [[0.0, \"#0d0887\"], [0.1111111111111111, \"#46039f\"], [0.2222222222222222, \"#7201a8\"], [0.3333333333333333, \"#9c179e\"], [0.4444444444444444, \"#bd3786\"], [0.5555555555555556, \"#d8576b\"], [0.6666666666666666, \"#ed7953\"], [0.7777777777777778, \"#fb9f3a\"], [0.8888888888888888, \"#fdca26\"], [1.0, \"#f0f921\"]], \"type\": \"histogram2dcontour\"}], \"mesh3d\": [{\"colorbar\": {\"outlinewidth\": 0, \"ticks\": \"\"}, \"type\": \"mesh3d\"}], \"parcoords\": [{\"line\": {\"colorbar\": {\"outlinewidth\": 0, \"ticks\": \"\"}}, \"type\": \"parcoords\"}], \"pie\": [{\"automargin\": true, \"type\": \"pie\"}], \"scatter\": [{\"marker\": {\"colorbar\": {\"outlinewidth\": 0, \"ticks\": \"\"}}, \"type\": \"scatter\"}], \"scatter3d\": [{\"line\": {\"colorbar\": {\"outlinewidth\": 0, \"ticks\": \"\"}}, \"marker\": {\"colorbar\": {\"outlinewidth\": 0, \"ticks\": \"\"}}, \"type\": \"scatter3d\"}], \"scattercarpet\": [{\"marker\": {\"colorbar\": {\"outlinewidth\": 0, \"ticks\": \"\"}}, \"type\": \"scattercarpet\"}], \"scattergeo\": [{\"marker\": {\"colorbar\": {\"outlinewidth\": 0, \"ticks\": \"\"}}, \"type\": \"scattergeo\"}], \"scattergl\": [{\"marker\": {\"colorbar\": {\"outlinewidth\": 0, \"ticks\": \"\"}}, \"type\": \"scattergl\"}], \"scattermapbox\": [{\"marker\": {\"colorbar\": {\"outlinewidth\": 0, \"ticks\": \"\"}}, \"type\": \"scattermapbox\"}], \"scatterpolar\": [{\"marker\": {\"colorbar\": {\"outlinewidth\": 0, \"ticks\": \"\"}}, \"type\": \"scatterpolar\"}], \"scatterpolargl\": [{\"marker\": {\"colorbar\": {\"outlinewidth\": 0, \"ticks\": \"\"}}, \"type\": \"scatterpolargl\"}], \"scatterternary\": [{\"marker\": {\"colorbar\": {\"outlinewidth\": 0, \"ticks\": \"\"}}, \"type\": \"scatterternary\"}], \"surface\": [{\"colorbar\": {\"outlinewidth\": 0, \"ticks\": \"\"}, \"colorscale\": [[0.0, \"#0d0887\"], [0.1111111111111111, \"#46039f\"], [0.2222222222222222, \"#7201a8\"], [0.3333333333333333, \"#9c179e\"], [0.4444444444444444, \"#bd3786\"], [0.5555555555555556, \"#d8576b\"], [0.6666666666666666, \"#ed7953\"], [0.7777777777777778, \"#fb9f3a\"], [0.8888888888888888, \"#fdca26\"], [1.0, \"#f0f921\"]], \"type\": \"surface\"}], \"table\": [{\"cells\": {\"fill\": {\"color\": \"#EBF0F8\"}, \"line\": {\"color\": \"white\"}}, \"header\": {\"fill\": {\"color\": \"#C8D4E3\"}, \"line\": {\"color\": \"white\"}}, \"type\": \"table\"}]}, \"layout\": {\"annotationdefaults\": {\"arrowcolor\": \"#2a3f5f\", \"arrowhead\": 0, \"arrowwidth\": 1}, \"coloraxis\": {\"colorbar\": {\"outlinewidth\": 0, \"ticks\": \"\"}}, \"colorscale\": {\"diverging\": [[0, \"#8e0152\"], [0.1, \"#c51b7d\"], [0.2, \"#de77ae\"], [0.3, \"#f1b6da\"], [0.4, \"#fde0ef\"], [0.5, \"#f7f7f7\"], [0.6, \"#e6f5d0\"], [0.7, \"#b8e186\"], [0.8, \"#7fbc41\"], [0.9, \"#4d9221\"], [1, \"#276419\"]], \"sequential\": [[0.0, \"#0d0887\"], [0.1111111111111111, \"#46039f\"], [0.2222222222222222, \"#7201a8\"], [0.3333333333333333, \"#9c179e\"], [0.4444444444444444, \"#bd3786\"], [0.5555555555555556, \"#d8576b\"], [0.6666666666666666, \"#ed7953\"], [0.7777777777777778, \"#fb9f3a\"], [0.8888888888888888, \"#fdca26\"], [1.0, \"#f0f921\"]], \"sequentialminus\": [[0.0, \"#0d0887\"], [0.1111111111111111, \"#46039f\"], [0.2222222222222222, \"#7201a8\"], [0.3333333333333333, \"#9c179e\"], [0.4444444444444444, \"#bd3786\"], [0.5555555555555556, \"#d8576b\"], [0.6666666666666666, \"#ed7953\"], [0.7777777777777778, \"#fb9f3a\"], [0.8888888888888888, \"#fdca26\"], [1.0, \"#f0f921\"]]}, \"colorway\": [\"#636efa\", \"#EF553B\", \"#00cc96\", \"#ab63fa\", \"#FFA15A\", \"#19d3f3\", \"#FF6692\", \"#B6E880\", \"#FF97FF\", \"#FECB52\"], \"font\": {\"color\": \"#2a3f5f\"}, \"geo\": {\"bgcolor\": \"white\", \"lakecolor\": \"white\", \"landcolor\": \"#E5ECF6\", \"showlakes\": true, \"showland\": true, \"subunitcolor\": \"white\"}, \"hoverlabel\": {\"align\": \"left\"}, \"hovermode\": \"closest\", \"mapbox\": {\"style\": \"light\"}, \"paper_bgcolor\": \"white\", \"plot_bgcolor\": \"#E5ECF6\", \"polar\": {\"angularaxis\": {\"gridcolor\": \"white\", \"linecolor\": \"white\", \"ticks\": \"\"}, \"bgcolor\": \"#E5ECF6\", \"radialaxis\": {\"gridcolor\": \"white\", \"linecolor\": \"white\", \"ticks\": \"\"}}, \"scene\": {\"xaxis\": {\"backgroundcolor\": \"#E5ECF6\", \"gridcolor\": \"white\", \"gridwidth\": 2, \"linecolor\": \"white\", \"showbackground\": true, \"ticks\": \"\", \"zerolinecolor\": \"white\"}, \"yaxis\": {\"backgroundcolor\": \"#E5ECF6\", \"gridcolor\": \"white\", \"gridwidth\": 2, \"linecolor\": \"white\", \"showbackground\": true, \"ticks\": \"\", \"zerolinecolor\": \"white\"}, \"zaxis\": {\"backgroundcolor\": \"#E5ECF6\", \"gridcolor\": \"white\", \"gridwidth\": 2, \"linecolor\": \"white\", \"showbackground\": true, \"ticks\": \"\", \"zerolinecolor\": \"white\"}}, \"shapedefaults\": {\"line\": {\"color\": \"#2a3f5f\"}}, \"ternary\": {\"aaxis\": {\"gridcolor\": \"white\", \"linecolor\": \"white\", \"ticks\": \"\"}, \"baxis\": {\"gridcolor\": \"white\", \"linecolor\": \"white\", \"ticks\": \"\"}, \"bgcolor\": \"#E5ECF6\", \"caxis\": {\"gridcolor\": \"white\", \"linecolor\": \"white\", \"ticks\": \"\"}}, \"title\": {\"x\": 0.05}, \"xaxis\": {\"automargin\": true, \"gridcolor\": \"white\", \"linecolor\": \"white\", \"ticks\": \"\", \"title\": {\"standoff\": 15}, \"zerolinecolor\": \"white\", \"zerolinewidth\": 2}, \"yaxis\": {\"automargin\": true, \"gridcolor\": \"white\", \"linecolor\": \"white\", \"ticks\": \"\", \"title\": {\"standoff\": 15}, \"zerolinecolor\": \"white\", \"zerolinewidth\": 2}}}},\n",
              "                        {\"responsive\": true}\n",
              "                    ).then(function(){\n",
              "                            \n",
              "var gd = document.getElementById('4736f82f-41a5-4f8c-903f-84beffa0534b');\n",
              "var x = new MutationObserver(function (mutations, observer) {{\n",
              "        var display = window.getComputedStyle(gd).display;\n",
              "        if (!display || display === 'none') {{\n",
              "            console.log([gd, 'removed!']);\n",
              "            Plotly.purge(gd);\n",
              "            observer.disconnect();\n",
              "        }}\n",
              "}});\n",
              "\n",
              "// Listen for the removal of the full notebook cells\n",
              "var notebookContainer = gd.closest('#notebook-container');\n",
              "if (notebookContainer) {{\n",
              "    x.observe(notebookContainer, {childList: true});\n",
              "}}\n",
              "\n",
              "// Listen for the clearing of the current output cell\n",
              "var outputEl = gd.closest('.output');\n",
              "if (outputEl) {{\n",
              "    x.observe(outputEl, {childList: true});\n",
              "}}\n",
              "\n",
              "                        })\n",
              "                };\n",
              "                \n",
              "            </script>\n",
              "        </div>\n",
              "</body>\n",
              "</html>"
            ]
          },
          "metadata": {
            "tags": []
          }
        }
      ]
    },
    {
      "cell_type": "code",
      "metadata": {
        "id": "4UylMCR9pAfN",
        "colab_type": "code",
        "colab": {}
      },
      "source": [
        ""
      ],
      "execution_count": null,
      "outputs": []
    },
    {
      "cell_type": "code",
      "metadata": {
        "id": "vXC20IRApoKP",
        "colab_type": "code",
        "colab": {}
      },
      "source": [
        ""
      ],
      "execution_count": null,
      "outputs": []
    },
    {
      "cell_type": "code",
      "metadata": {
        "id": "dHWUMm_0poGq",
        "colab_type": "code",
        "colab": {}
      },
      "source": [
        ""
      ],
      "execution_count": null,
      "outputs": []
    },
    {
      "cell_type": "markdown",
      "metadata": {
        "id": "SKvAfcxRl6ao",
        "colab_type": "text"
      },
      "source": [
        "From this diagram we can see that we actually dont need 5 classes that was shown in the data that was becuase our data showed us that the class 0 was actually divided in 2 classes which we did on our own and this shows to us that the people have being suspected to be having some problems are whys o difficult to chase out\n"
      ]
    },
    {
      "cell_type": "markdown",
      "metadata": {
        "id": "ziv9s7O5mR5i",
        "colab_type": "text"
      },
      "source": [
        "# **Now doing the clustering on the basis of all the fetures but Visulizing the same figure as before**"
      ]
    },
    {
      "cell_type": "code",
      "metadata": {
        "id": "EcENG4pPk9EG",
        "colab_type": "code",
        "colab": {}
      },
      "source": [
        "X=data.iloc[:,[2,4,5,7,6,8,9,10,11,12,13]].values"
      ],
      "execution_count": null,
      "outputs": []
    },
    {
      "cell_type": "code",
      "metadata": {
        "id": "KqzNE_XSmrFI",
        "colab_type": "code",
        "colab": {}
      },
      "source": [
        "w=[]\n",
        "for i in range(1,11):\n",
        "  kmean=KMeans(n_clusters=i)\n",
        "  kmean.fit(X)\n",
        "  w.append(kmean.inertia_)"
      ],
      "execution_count": null,
      "outputs": []
    },
    {
      "cell_type": "code",
      "metadata": {
        "id": "q531ey9smt6e",
        "colab_type": "code",
        "colab": {
          "base_uri": "https://localhost:8080/",
          "height": 295
        },
        "outputId": "aa46e0d3-6cdb-4992-c7b3-a1bea12f538c"
      },
      "source": [
        "plt.plot(range(1,11),w,'bx-')\n",
        "plt.title('The Elbow Method Graph')\n",
        "plt.xlabel('Number of clusters')\n",
        "plt.ylabel('WCSS')\n",
        "plt.show()"
      ],
      "execution_count": null,
      "outputs": [
        {
          "output_type": "display_data",
          "data": {
            "image/png": "[encoded data removed]",
            "text/plain": [
              "<Figure size 432x288 with 1 Axes>"
            ]
          },
          "metadata": {
            "tags": [],
            "needs_background": "light"
          }
        }
      ]
    },
    {
      "cell_type": "code",
      "metadata": {
        "id": "dzDhcqYEmvmK",
        "colab_type": "code",
        "colab": {}
      },
      "source": [
        "kmean=KMeans(n_clusters=5)\n",
        "kmean.fit(X)\n",
        "y=kmean.predict(X)"
      ],
      "execution_count": null,
      "outputs": []
    },
    {
      "cell_type": "code",
      "metadata": {
        "id": "6xxqiRIhm9M_",
        "colab_type": "code",
        "colab": {
          "base_uri": "https://localhost:8080/",
          "height": 542
        },
        "outputId": "15b96559-4c13-47f3-d6d1-923d7f53de33"
      },
      "source": [
        "plotly.express.scatter_3d(data_frame=data,x='ALP',y='ALB',z='Age',color=y)"
      ],
      "execution_count": null,
      "outputs": [
        {
          "output_type": "display_data",
          "data": {
            "text/html": [
              "<html>\n",
              "<head><meta charset=\"utf-8\" /></head>\n",
              "<body>\n",
              "    <div>\n",
              "            <script src=\"https://cdnjs.cloudflare.com/ajax/libs/mathjax/2.7.5/MathJax.js?config=TeX-AMS-MML_SVG\"></script><script type=\"text/javascript\">if (window.MathJax) {MathJax.Hub.Config({SVG: {font: \"STIX-Web\"}});}</script>\n",
              "                <script type=\"text/javascript\">window.PlotlyConfig = {MathJaxConfig: 'local'};</script>\n",
              "        <script src=\"https://cdn.plot.ly/plotly-latest.min.js\"></script>    \n",
              "            <div id=\"27271fe5-a4a1-4957-ae7f-228c002dbaa7\" class=\"plotly-graph-div\" style=\"height:525px; width:100%;\"></div>\n",
              "            <script type=\"text/javascript\">\n",
              "                \n",
              "                    window.PLOTLYENV=window.PLOTLYENV || {};\n",
              "                    \n",
              "                if (document.getElementById(\"27271fe5-a4a1-4957-ae7f-228c002dbaa7\")) {\n",
              "                    Plotly.newPlot(\n",
              "                        '27271fe5-a4a1-4957-ae7f-228c002dbaa7',\n",
              "                        [{\"hoverlabel\": {\"namelength\": 0}, \"hovertemplate\": \"ALP=%{x}<br>ALB=%{y}<br>Age=%{z}<br>color=%{marker.color}\", \"legendgroup\": \"\", \"marker\": {\"color\": [0, 0, 0, 0, 0, 2, 0, 0, 0, 0, 0, 0, 0, 0, 0, 0, 0, 0, 0, 0, 0, 0, 2, 2, 0, 0, 0, 0, 0, 0, 0, 0, 0, 0, 0, 2, 0, 0, 0, 0, 0, 0, 0, 0, 2, 2, 0, 0, 0, 0, 0, 0, 0, 0, 2, 0, 0, 0, 0, 0, 0, 0, 0, 0, 2, 2, 0, 2, 0, 0, 0, 2, 0, 0, 2, 0, 0, 0, 2, 0, 0, 0, 0, 0, 2, 0, 0, 0, 0, 2, 0, 2, 0, 0, 2, 0, 0, 0, 0, 0, 0, 0, 0, 0, 0, 0, 0, 0, 0, 0, 0, 0, 0, 0, 2, 0, 2, 0, 0, 0, 0, 0, 0, 2, 0, 0, 1, 0, 0, 0, 0, 0, 0, 0, 0, 0, 0, 0, 2, 0, 2, 2, 0, 0, 2, 0, 2, 0, 0, 0, 0, 0, 0, 0, 0, 0, 2, 0, 2, 0, 0, 0, 0, 0, 0, 0, 0, 0, 2, 0, 0, 0, 0, 0, 0, 0, 2, 0, 0, 0, 0, 0, 0, 0, 0, 0, 0, 2, 0, 2, 0, 0, 0, 0, 2, 0, 0, 2, 0, 2, 0, 0, 0, 0, 2, 2, 0, 0, 0, 0, 0, 0, 0, 0, 0, 2, 2, 0, 0, 0, 0, 0, 0, 0, 0, 0, 0, 2, 0, 0, 0, 0, 0, 2, 0, 2, 0, 0, 0, 2, 0, 2, 0, 0, 0, 0, 0, 0, 0, 2, 0, 0, 0, 0, 0, 0, 0, 0, 0, 0, 2, 0, 0, 2, 0, 0, 0, 0, 0, 0, 0, 0, 0, 0, 0, 2, 0, 0, 0, 0, 2, 0, 0, 0, 0, 0, 0, 0, 0, 2, 0, 0, 0, 2, 0, 0, 0, 0, 0, 2, 0, 0, 0, 0, 0, 0, 0, 2, 2, 0, 0, 0, 0, 0, 2, 0, 2, 0, 0, 0, 0, 0, 0, 0, 2, 0, 0, 0, 0, 0, 0, 0, 0, 0, 0, 0, 0, 0, 0, 0, 0, 0, 0, 0, 0, 0, 0, 0, 0, 0, 0, 0, 0, 0, 0, 0, 0, 0, 0, 0, 0, 0, 0, 0, 0, 0, 0, 0, 0, 0, 0, 0, 0, 0, 0, 0, 0, 0, 0, 2, 0, 0, 0, 0, 0, 0, 0, 0, 0, 0, 0, 0, 0, 0, 0, 0, 0, 0, 0, 0, 0, 2, 0, 0, 0, 0, 0, 0, 0, 0, 0, 0, 0, 0, 0, 0, 0, 0, 2, 0, 0, 0, 0, 0, 0, 0, 0, 0, 0, 0, 0, 0, 0, 0, 0, 0, 0, 0, 0, 0, 0, 0, 0, 0, 0, 0, 0, 0, 0, 0, 0, 0, 2, 0, 0, 0, 0, 0, 2, 0, 0, 0, 2, 0, 0, 0, 0, 0, 0, 0, 0, 0, 0, 0, 0, 2, 0, 0, 2, 0, 0, 2, 0, 0, 0, 0, 0, 0, 0, 0, 0, 0, 0, 0, 0, 0, 2, 0, 0, 0, 0, 0, 0, 0, 0, 0, 0, 0, 0, 0, 0, 0, 0, 0, 0, 0, 2, 0, 0, 0, 0, 0, 0, 0, 0, 0, 0, 0, 0, 2, 0, 0, 0, 4, 2, 0, 1, 0, 2, 4, 2, 2, 1, 1, 0, 0, 2, 1, 0, 0, 2, 0, 0, 1, 0, 2, 2, 1, 4, 4, 0, 0, 0, 1, 2, 1, 1, 0, 2, 2, 1, 2, 1, 2, 2, 0, 2, 1, 0, 0, 0, 2, 2, 2, 1, 2, 3, 1, 1, 1, 1, 3, 1, 4, 0, 1, 1, 1, 4, 1, 1, 1, 4, 2, 0, 1, 3, 2, 1, 1, 4, 0, 1, 2, 2], \"coloraxis\": \"coloraxis\", \"symbol\": \"circle\"}, \"mode\": \"markers\", \"name\": \"\", \"scene\": \"scene\", \"showlegend\": false, \"type\": \"scatter3d\", \"x\": [52.5, 70.3, 74.7, 52.0, 74.1, 43.3, 41.3, 41.9, 65.5, 86.3, 52.3, 68.2, 78.6, 51.7, 39.8, 65.0, 73.0, 88.3, 57.1, 63.1, 49.8, 88.3, 65.3, 46.1, 32.4, 77.7, 27.0, 41.6, 84.1, 61.7, 75.8, 70.6, 58.9, 69.8, 68.3, 79.3, 115.1, 72.7, 92.2, 70.3, 54.5, 82.7, 99.0, 58.5, 57.6, 77.2, 58.8, 65.0, 66.4, 89.0, 65.3, 47.3, 82.8, 106.0, 70.7, 57.4, 64.6, 68.8, 94.3, 61.2, 84.5, 77.5, 44.3, 48.5, 64.0, 61.8, 118.9, 72.8, 53.3, 62.3, 63.2, 62.9, 50.2, 58.9, 43.8, 69.4, 42.7, 44.9, 81.5, 61.7, 63.9, 52.5, 66.5, 71.3, 90.1, 48.6, 36.5, 73.4, 80.2, 102.9, 62.5, 77.1, 68.0, 45.7, 67.5, 74.2, 66.5, 63.4, 52.9, 61.8, 86.8, 63.9, 55.9, 69.0, 48.2, 79.0, 74.9, 75.1, 55.3, 46.8, 78.6, 71.4, 43.7, 88.7, 68.7, 83.7, 57.7, 82.0, 126.0, 99.3, 67.3, 45.0, 50.7, 61.8, 75.6, 76.9, 40.7, 59.4, 84.9, 110.8, 93.6, 105.7, 81.7, 84.3, 73.5, 71.6, 43.9, 53.9, 63.2, 77.8, 102.6, 73.2, 68.2, 64.4, 77.0, 71.5, 75.4, 61.6, 49.2, 40.3, 79.9, 65.6, 51.6, 98.0, 60.0, 41.0, 80.1, 48.2, 91.6, 55.9, 82.6, 59.3, 61.0, 75.2, 42.8, 66.5, 81.6, 52.9, 59.3, 63.0, 51.6, 44.8, 56.4, 61.2, 69.2, 59.9, 94.9, 83.9, 56.4, 94.7, 41.2, 58.1, 88.5, 69.1, 64.1, 34.6, 62.1, 77.3, 96.0, 60.2, 63.3, 73.8, 84.1, 67.9, 87.8, 66.3, 82.5, 62.6, 76.2, 51.0, 59.4, 70.5, 56.9, 73.7, 96.5, 145.0, 54.8, 98.5, 78.1, 69.1, 84.3, 66.7, 56.0, 69.4, 72.6, 72.2, 82.2, 63.6, 85.5, 43.5, 73.6, 78.6, 67.4, 72.2, 61.4, 59.1, 53.0, 104.0, 61.2, 86.0, 98.1, 119.7, 76.1, 45.3, 82.5, 71.8, 74.7, 70.2, 67.0, 75.1, 72.0, 100.4, 60.0, 45.8, 92.6, 44.9, 87.1, 71.9, 65.5, 71.6, 59.5, 62.9, 97.9, 50.0, 49.2, 45.6, 37.1, 56.3, 45.3, 64.5, 56.2, 86.8, 80.1, 56.0, 79.3, 58.9, 55.8, 115.4, 106.5, 72.4, 49.4, 61.2, 50.3, 46.6, 83.7, 48.8, 59.7, 46.8, 71.5, 67.2, 89.4, 73.3, 70.1, 60.5, 104.9, 59.5, 51.4, 98.0, 42.7, 76.5, 59.6, 71.3, 74.3, 75.9, 66.7, 72.5, 87.8, 81.8, 64.8, 66.2, 99.4, 45.8, 104.0, 76.0, 79.6, 58.3, 61.4, 72.8, 86.5, 83.8, 71.1, 76.7, 85.7, 63.5, 87.9, 48.9, 97.1, 52.2, 35.2, 52.5, 42.8, 66.2, 77.5, 51.7, 74.0, 35.2, 61.1, 54.4, 95.5, 137.2, 72.0, 53.5, 82.2, 73.1, 73.7, 36.3, 47.4, 63.2, 70.9, 52.3, 76.9, 39.3, 62.6, 72.4, 62.6, 38.2, 51.2, 69.0, 51.3, 50.8, 88.7, 83.2, 69.1, 52.0, 59.0, 55.1, 58.1, 47.5, 47.3, 73.5, 56.2, 92.1, 61.9, 87.2, 79.3, 106.0, 59.2, 55.3, 60.4, 42.4, 54.7, 50.2, 75.7, 51.3, 67.9, 48.3, 67.9, 54.0, 64.1, 77.1, 41.4, 38.2, 83.1, 63.0, 80.7, 58.8, 57.5, 40.9, 28.9, 57.6, 60.0, 86.1, 103.3, 65.7, 86.5, 76.4, 71.0, 54.9, 92.2, 56.0, 62.4, 87.5, 49.1, 54.3, 78.2, 59.8, 66.3, 62.3, 50.8, 71.3, 56.5, 70.1, 73.9, 55.1, 47.5, 61.9, 59.5, 113.2, 84.1, 37.5, 43.4, 42.0, 54.1, 65.0, 107.2, 45.4, 51.0, 66.3, 71.8, 40.6, 88.3, 65.9, 50.1, 93.3, 62.2, 52.5, 64.5, 43.9, 120.2, 58.4, 89.4, 59.4, 31.3, 37.9, 45.9, 71.5, 50.6, 77.2, 74.0, 80.5, 45.6, 63.0, 70.5, 80.7, 52.9, 63.5, 67.7, 52.2, 136.9, 81.2, 71.0, 43.0, 117.3, 61.3, 78.2, 52.0, 47.2, 58.3, 89.7, 81.8, 87.6, 77.4, 70.3, 55.0, 76.0, 84.6, 84.3, 61.7, 91.7, 84.7, 66.9, 84.1, 30.7, 72.9, 53.4, 61.2, 76.5, 86.1, 101.3, 69.6, 83.6, 66.0, 86.9, 90.3, 102.3, 54.3, 79.1, 83.8, 94.4, 83.5, 57.1, 80.9, 85.1, 50.3, 62.8, 56.9, 60.6, 62.9, 91.4, 52.5, 74.8, 82.4, 78.0, 68.4, 86.0, 75.5, 88.2, 80.7, 51.4, 85.1, 66.4, 47.5, 82.5, 59.7, 46.6, 59.9, 67.6, 85.7, 68.1, 52.7, 74.3, 102.3, 97.9, 124.0, 116.9, 42.2, 106.0, 69.8, 84.0, 208.2, 56.3, 37.7, 19.1, 38.2, 27.5, 29.866666666666667, 32.233333333333334, 34.6, 34.4, 36.7, 37.9, 32.9, 20.6, 39.6, 27.3, 59.5, 41.6, 37.2, 114.0, 99.1, 29.6, 31.2, 32.7, 34.4, 43.1, 43.1, 26.9, 45.2, 44.52, 43.84, 43.16, 42.48, 41.8, 29.7, 34.5, 35.7, 37.5, 39.3, 39.8, 52.1, 22.9, 42.05, 61.2, 80.35, 99.5, 118.65, 137.8, 85.3, 69.6, 11.3, 60.45, 109.6, 87.8, 66.0, 29.6, 81.1, 105.6, 40.4, 143.1, 49.7, 73.8, 86.3, 102.9, 68.5, 34.1, 79.0, 190.7, 37.0, 46.4, 51.3, 416.6, 102.8, 87.3, 87.3, 87.3], \"y\": [38.5, 38.5, 46.9, 43.2, 39.2, 41.6, 46.3, 42.2, 50.9, 42.4, 44.3, 46.4, 36.3, 39.0, 38.7, 41.8, 40.9, 45.2, 36.6, 42.0, 44.3, 46.7, 42.7, 43.4, 40.5, 44.8, 42.6, 29.0, 44.6, 46.8, 41.8, 46.1, 43.6, 37.5, 42.1, 44.7, 41.5, 48.7, 47.3, 44.5, 47.4, 51.0, 27.8, 46.1, 45.5, 41.7, 45.9, 48.7, 53.0, 47.8, 42.6, 42.4, 48.9, 31.4, 42.9, 44.0, 41.5, 47.9, 44.8, 38.6, 51.2, 41.9, 46.1, 50.4, 33.9, 42.9, 40.8, 43.6, 46.4, 48.7, 48.1, 39.9, 45.5, 43.4, 41.2, 44.7, 42.0, 48.4, 38.3, 40.5, 45.1, 38.8, 47.0, 36.6, 43.9, 43.4, 36.0, 45.7, 37.5, 46.4, 45.8, 46.1, 47.8, 44.5, 41.4, 45.0, 39.1, 45.1, 45.4, 46.9, 45.1, 38.5, 42.3, 46.9, 40.2, 53.3, 44.7, 37.4, 45.3, 44.1, 37.8, 46.3, 46.4, 38.1, 46.9, 37.8, 46.2, 37.0, 39.7, 54.4, 36.3, 48.6, 42.9, 39.4, 41.5, 42.8, 43.9, 41.2, 44.4, 38.4, 44.5, 37.4, 35.5, 44.0, 48.6, 40.8, 47.3, 44.6, 41.4, 46.5, 36.2, 41.7, 43.2, 40.3, 46.4, 44.3, 45.7, 42.6, 35.7, 39.7, 37.9, 41.8, 47.7, 44.8, 49.1, 43.0, 45.9, 49.7, 37.3, 47.4, 51.8, 44.7, 41.6, 49.5, 40.8, 48.0, 42.1, 42.2, 48.3, 46.2, 45.3, 36.7, 48.0, 55.4, 42.5, 46.2, 38.2, 43.1, 44.7, 38.8, 43.4, 46.0, 45.7, 42.6, 46.4, 50.4, 39.1, 39.7, 41.2, 44.7, 44.4, 40.2, 44.3, 47.8, 40.0, 46.6, 44.3, 45.7, 43.5, 36.0, 35.5, 40.3, 43.8, 43.1, 39.7, 42.2, 38.0, 36.8, 47.2, 42.6, 42.0, 45.9, 50.8, 46.3, 42.3, 42.2, 82.2, 39.3, 46.8, 44.7, 37.2, 40.7, 41.2, 46.6, 41.0, 41.6, 45.3, 38.7, 44.5, 49.0, 37.8, 44.8, 40.5, 41.7, 38.1, 49.2, 46.9, 46.0, 43.0, 46.4, 40.8, 41.6, 44.1, 39.0, 42.9, 40.0, 46.2, 47.6, 28.1, 44.7, 41.5, 39.9, 39.4, 42.9, 37.9, 42.1, 40.2, 49.5, 45.7, 59.7, 43.5, 43.3, 46.4, 44.0, 46.8, 41.3, 40.9, 45.7, 45.3, 41.9, 39.8, 38.4, 48.9, 43.8, 37.8, 42.2, 46.3, 40.4, 43.4, 41.1, 45.2, 45.9, 43.4, 34.3, 44.8, 38.9, 42.1, 46.6, 39.6, 44.7, 39.5, 45.3, 40.8, 46.0, 40.1, 35.1, 44.5, 41.0, 43.1, 34.8, 44.7, 39.1, 43.6, 48.4, 40.6, 32.6, 41.0, 44.8, 44.4, 38.7, 42.9, 39.3, 27.8, 41.0, 39.0, 29.2, 38.0, 52.2, 39.9, 47.4, 41.1, 43.5, 36.0, 36.9, 44.3, 38.1, 41.0, 38.2, 47.6, 42.4, 45.9, 35.4, 38.5, 41.2, 40.6, 37.3, 41.9, 36.3, 36.2, 46.5, 45.5, 39.7, 41.0, 40.5, 43.4, 45.6, 62.9, 42.0, 38.0, 46.9, 46.1, 44.7, 46.4, 39.7, 39.9, 42.7, 39.2, 42.1, 40.5, 40.0, 48.5, 50.3, 41.2, 40.3, 40.0, 31.4, 46.4, 41.7, 41.6, 43.2, 42.9, 39.9, 40.4, 42.4, 39.3, 46.2, 39.8, 43.4, 38.7, 37.6, 44.1, 41.2, 39.0, 39.0, 34.7, 44.8, 33.7, 47.8, 37.4, 45.6, 35.5, 44.0, 48.3, 35.8, 43.0, 36.3, 35.5, 36.7, 39.5, 38.6, 41.7, 41.8, 46.4, 37.5, 37.0, 59.8, 48.8, 36.7, 35.8, 39.9, 32.4, 40.1, 39.9, 42.9, 41.1, 42.3, 37.9, 36.8, 51.3, 35.6, 38.7, 36.4, 34.6, 40.3, 45.6, 35.2, 39.2, 32.0, 46.3, 45.3, 37.5, 39.6, 43.7, 46.8, 42.5, 44.4, 44.4, 38.8, 38.8, 40.9, 39.1, 39.3, 40.5, 34.9, 45.4, 43.3, 36.9, 47.6, 42.5, 39.9, 41.2, 34.6, 46.3, 37.8, 38.3, 39.6, 38.3, 43.1, 41.4, 41.0, 46.0, 39.6, 47.4, 43.7, 45.5, 43.8, 36.0, 41.7, 40.2, 51.5, 36.7, 41.3, 38.2, 42.4, 39.0, 40.1, 43.7, 43.5, 41.1, 38.0, 47.4, 51.3, 39.9, 26.2, 44.5, 39.9, 43.3, 41.9, 36.2, 35.2, 39.9, 39.7, 39.5, 34.7, 36.6, 33.2, 45.1, 39.9, 48.4, 41.2, 42.6, 38.6, 27.3, 37.9, 38.7, 48.0, 44.7, 42.7, 35.3, 26.3, 47.0, 43.0, 45.1, 40.0, 40.5, 35.8, 52.4, 40.1, 45.4, 41.4, 38.1, 43.4, 36.6, 35.4, 44.0, 47.6, 36.1, 27.8, 39.8, 43.0, 33.0, 41.4, 40.0, 22.5, 24.9, 21.6, 47.3, 14.9, 20.3, 19.3, 45.0, 41.0, 47.0, 42.0, 45.0, 49.0, 45.0, 45.0, 41.0, 46.0, 47.0, 44.0, 41.0, 42.0, 49.0, 48.0, 42.0, 43.0, 37.0, 43.0, 43.0, 37.0, 40.0, 50.0, 41.0, 39.0, 45.0, 49.0, 39.0, 46.0, 42.0, 46.0, 41.0, 47.0, 44.0, 38.0, 37.0, 46.0, 40.0, 43.0, 43.0, 39.0, 37.0, 39.0, 36.0, 44.0, 34.0, 31.0, 36.0, 29.0, 20.0, 35.0, 42.0, 39.0, 33.0, 27.0, 23.0, 30.0, 31.0, 36.0, 27.0, 31.0, 39.0, 31.0, 23.0, 33.0, 33.0, 39.0, 34.0, 39.0, 32.0, 24.0, 29.0, 33.0, 36.0], \"z\": [32, 32, 32, 32, 32, 32, 32, 32, 32, 32, 32, 33, 33, 33, 33, 33, 33, 33, 33, 33, 33, 33, 34, 34, 34, 34, 34, 34, 34, 34, 34, 34, 34, 35, 35, 35, 35, 35, 35, 35, 35, 35, 35, 36, 36, 36, 36, 36, 36, 36, 36, 36, 36, 37, 37, 37, 37, 37, 37, 37, 37, 37, 37, 37, 37, 37, 37, 37, 37, 37, 38, 38, 38, 38, 38, 38, 38, 38, 38, 38, 39, 39, 39, 39, 39, 39, 39, 39, 39, 39, 39, 39, 40, 40, 40, 40, 40, 40, 40, 40, 41, 41, 41, 41, 41, 41, 41, 41, 42, 42, 42, 42, 42, 42, 42, 42, 42, 43, 43, 43, 43, 43, 43, 43, 43, 43, 43, 43, 44, 44, 44, 44, 44, 44, 44, 44, 44, 44, 45, 45, 45, 45, 45, 45, 45, 45, 45, 46, 46, 46, 46, 46, 46, 46, 46, 46, 46, 46, 46, 46, 46, 47, 47, 47, 47, 47, 47, 47, 47, 47, 47, 47, 47, 47, 48, 48, 48, 48, 48, 48, 48, 48, 48, 48, 48, 48, 49, 49, 49, 49, 49, 49, 49, 49, 50, 50, 50, 50, 50, 50, 50, 50, 50, 50, 50, 50, 51, 51, 51, 51, 51, 51, 51, 51, 52, 52, 52, 52, 52, 52, 52, 52, 52, 52, 52, 52, 53, 53, 53, 53, 53, 53, 53, 53, 53, 53, 54, 54, 54, 54, 54, 54, 55, 55, 55, 55, 55, 55, 55, 55, 55, 56, 56, 56, 56, 56, 56, 56, 56, 57, 57, 57, 57, 58, 58, 58, 58, 59, 59, 59, 59, 59, 59, 59, 59, 60, 60, 60, 60, 60, 60, 61, 61, 61, 61, 61, 62, 62, 62, 62, 63, 63, 63, 64, 64, 64, 64, 65, 65, 65, 65, 65, 65, 66, 66, 66, 66, 67, 67, 67, 68, 68, 70, 70, 71, 76, 76, 77, 32, 32, 32, 32, 33, 33, 33, 33, 33, 33, 33, 33, 33, 33, 33, 33, 33, 34, 34, 34, 34, 34, 34, 34, 35, 35, 35, 35, 35, 35, 35, 35, 35, 35, 36, 36, 36, 36, 37, 37, 37, 38, 38, 38, 38, 38, 38, 39, 39, 40, 40, 40, 40, 40, 41, 41, 41, 41, 41, 42, 42, 43, 43, 43, 43, 43, 43, 43, 43, 43, 44, 44, 44, 44, 44, 44, 44, 44, 44, 45, 45, 45, 45, 45, 45, 45, 45, 45, 46, 46, 46, 46, 46, 46, 46, 46, 46, 46, 46, 46, 46, 47, 47, 47, 47, 47, 48, 48, 48, 48, 48, 48, 48, 48, 48, 48, 48, 48, 48, 48, 49, 49, 49, 49, 49, 49, 49, 49, 50, 50, 50, 50, 50, 50, 51, 51, 51, 51, 51, 51, 51, 51, 51, 51, 51, 51, 52, 52, 52, 52, 52, 52, 52, 52, 52, 53, 53, 53, 53, 53, 53, 53, 53, 53, 54, 54, 54, 54, 54, 55, 55, 55, 55, 56, 56, 56, 56, 56, 56, 56, 57, 57, 57, 57, 57, 57, 57, 57, 57, 57, 58, 58, 58, 59, 59, 59, 60, 60, 60, 60, 60, 60, 61, 61, 62, 62, 62, 63, 63, 63, 64, 64, 65, 68, 70, 47, 48, 49, 55, 71, 74, 59, 38, 19, 23, 25, 27, 29, 30, 32, 32, 34, 35, 36, 38, 41, 44, 46, 50, 51, 56, 58, 33, 41, 50, 61, 29, 40, 46, 48, 49, 49, 50, 53, 54, 57, 59, 64, 71, 36, 38, 57, 68, 49, 51, 56, 75, 38, 39, 41, 42, 45, 46, 46, 47, 51, 51, 56, 56, 56, 58, 59, 59, 59, 61, 65, 74, 42, 49, 52, 58, 59, 62, 64, 64, 46, 59]}],\n",
              "                        {\"coloraxis\": {\"colorbar\": {\"title\": {\"text\": \"color\"}}, \"colorscale\": [[0.0, \"#0d0887\"], [0.1111111111111111, \"#46039f\"], [0.2222222222222222, \"#7201a8\"], [0.3333333333333333, \"#9c179e\"], [0.4444444444444444, \"#bd3786\"], [0.5555555555555556, \"#d8576b\"], [0.6666666666666666, \"#ed7953\"], [0.7777777777777778, \"#fb9f3a\"], [0.8888888888888888, \"#fdca26\"], [1.0, \"#f0f921\"]]}, \"legend\": {\"tracegroupgap\": 0}, \"margin\": {\"t\": 60}, \"scene\": {\"domain\": {\"x\": [0.0, 1.0], \"y\": [0.0, 1.0]}, \"xaxis\": {\"title\": {\"text\": \"ALP\"}}, \"yaxis\": {\"title\": {\"text\": \"ALB\"}}, \"zaxis\": {\"title\": {\"text\": \"Age\"}}}, \"template\": {\"data\": {\"bar\": [{\"error_x\": {\"color\": \"#2a3f5f\"}, \"error_y\": {\"color\": \"#2a3f5f\"}, \"marker\": {\"line\": {\"color\": \"#E5ECF6\", \"width\": 0.5}}, \"type\": \"bar\"}], \"barpolar\": [{\"marker\": {\"line\": {\"color\": \"#E5ECF6\", \"width\": 0.5}}, \"type\": \"barpolar\"}], \"carpet\": [{\"aaxis\": {\"endlinecolor\": \"#2a3f5f\", \"gridcolor\": \"white\", \"linecolor\": \"white\", \"minorgridcolor\": \"white\", \"startlinecolor\": \"#2a3f5f\"}, \"baxis\": {\"endlinecolor\": \"#2a3f5f\", \"gridcolor\": \"white\", \"linecolor\": \"white\", \"minorgridcolor\": \"white\", \"startlinecolor\": \"#2a3f5f\"}, \"type\": \"carpet\"}], \"choropleth\": [{\"colorbar\": {\"outlinewidth\": 0, \"ticks\": \"\"}, \"type\": \"choropleth\"}], \"contour\": [{\"colorbar\": {\"outlinewidth\": 0, \"ticks\": \"\"}, \"colorscale\": [[0.0, \"#0d0887\"], [0.1111111111111111, \"#46039f\"], [0.2222222222222222, \"#7201a8\"], [0.3333333333333333, \"#9c179e\"], [0.4444444444444444, \"#bd3786\"], [0.5555555555555556, \"#d8576b\"], [0.6666666666666666, \"#ed7953\"], [0.7777777777777778, \"#fb9f3a\"], [0.8888888888888888, \"#fdca26\"], [1.0, \"#f0f921\"]], \"type\": \"contour\"}], \"contourcarpet\": [{\"colorbar\": {\"outlinewidth\": 0, \"ticks\": \"\"}, \"type\": \"contourcarpet\"}], \"heatmap\": [{\"colorbar\": {\"outlinewidth\": 0, \"ticks\": \"\"}, \"colorscale\": [[0.0, \"#0d0887\"], [0.1111111111111111, \"#46039f\"], [0.2222222222222222, \"#7201a8\"], [0.3333333333333333, \"#9c179e\"], [0.4444444444444444, \"#bd3786\"], [0.5555555555555556, \"#d8576b\"], [0.6666666666666666, \"#ed7953\"], [0.7777777777777778, \"#fb9f3a\"], [0.8888888888888888, \"#fdca26\"], [1.0, \"#f0f921\"]], \"type\": \"heatmap\"}], \"heatmapgl\": [{\"colorbar\": {\"outlinewidth\": 0, \"ticks\": \"\"}, \"colorscale\": [[0.0, \"#0d0887\"], [0.1111111111111111, \"#46039f\"], [0.2222222222222222, \"#7201a8\"], [0.3333333333333333, \"#9c179e\"], [0.4444444444444444, \"#bd3786\"], [0.5555555555555556, \"#d8576b\"], [0.6666666666666666, \"#ed7953\"], [0.7777777777777778, \"#fb9f3a\"], [0.8888888888888888, \"#fdca26\"], [1.0, \"#f0f921\"]], \"type\": \"heatmapgl\"}], \"histogram\": [{\"marker\": {\"colorbar\": {\"outlinewidth\": 0, \"ticks\": \"\"}}, \"type\": \"histogram\"}], \"histogram2d\": [{\"colorbar\": {\"outlinewidth\": 0, \"ticks\": \"\"}, \"colorscale\": [[0.0, \"#0d0887\"], [0.1111111111111111, \"#46039f\"], [0.2222222222222222, \"#7201a8\"], [0.3333333333333333, \"#9c179e\"], [0.4444444444444444, \"#bd3786\"], [0.5555555555555556, \"#d8576b\"], [0.6666666666666666, \"#ed7953\"], [0.7777777777777778, \"#fb9f3a\"], [0.8888888888888888, \"#fdca26\"], [1.0, \"#f0f921\"]], \"type\": \"histogram2d\"}], \"histogram2dcontour\": [{\"colorbar\": {\"outlinewidth\": 0, \"ticks\": \"\"}, \"colorscale\": [[0.0, \"#0d0887\"], [0.1111111111111111, \"#46039f\"], [0.2222222222222222, \"#7201a8\"], [0.3333333333333333, \"#9c179e\"], [0.4444444444444444, \"#bd3786\"], [0.5555555555555556, \"#d8576b\"], [0.6666666666666666, \"#ed7953\"], [0.7777777777777778, \"#fb9f3a\"], [0.8888888888888888, \"#fdca26\"], [1.0, \"#f0f921\"]], \"type\": \"histogram2dcontour\"}], \"mesh3d\": [{\"colorbar\": {\"outlinewidth\": 0, \"ticks\": \"\"}, \"type\": \"mesh3d\"}], \"parcoords\": [{\"line\": {\"colorbar\": {\"outlinewidth\": 0, \"ticks\": \"\"}}, \"type\": \"parcoords\"}], \"pie\": [{\"automargin\": true, \"type\": \"pie\"}], \"scatter\": [{\"marker\": {\"colorbar\": {\"outlinewidth\": 0, \"ticks\": \"\"}}, \"type\": \"scatter\"}], \"scatter3d\": [{\"line\": {\"colorbar\": {\"outlinewidth\": 0, \"ticks\": \"\"}}, \"marker\": {\"colorbar\": {\"outlinewidth\": 0, \"ticks\": \"\"}}, \"type\": \"scatter3d\"}], \"scattercarpet\": [{\"marker\": {\"colorbar\": {\"outlinewidth\": 0, \"ticks\": \"\"}}, \"type\": \"scattercarpet\"}], \"scattergeo\": [{\"marker\": {\"colorbar\": {\"outlinewidth\": 0, \"ticks\": \"\"}}, \"type\": \"scattergeo\"}], \"scattergl\": [{\"marker\": {\"colorbar\": {\"outlinewidth\": 0, \"ticks\": \"\"}}, \"type\": \"scattergl\"}], \"scattermapbox\": [{\"marker\": {\"colorbar\": {\"outlinewidth\": 0, \"ticks\": \"\"}}, \"type\": \"scattermapbox\"}], \"scatterpolar\": [{\"marker\": {\"colorbar\": {\"outlinewidth\": 0, \"ticks\": \"\"}}, \"type\": \"scatterpolar\"}], \"scatterpolargl\": [{\"marker\": {\"colorbar\": {\"outlinewidth\": 0, \"ticks\": \"\"}}, \"type\": \"scatterpolargl\"}], \"scatterternary\": [{\"marker\": {\"colorbar\": {\"outlinewidth\": 0, \"ticks\": \"\"}}, \"type\": \"scatterternary\"}], \"surface\": [{\"colorbar\": {\"outlinewidth\": 0, \"ticks\": \"\"}, \"colorscale\": [[0.0, \"#0d0887\"], [0.1111111111111111, \"#46039f\"], [0.2222222222222222, \"#7201a8\"], [0.3333333333333333, \"#9c179e\"], [0.4444444444444444, \"#bd3786\"], [0.5555555555555556, \"#d8576b\"], [0.6666666666666666, \"#ed7953\"], [0.7777777777777778, \"#fb9f3a\"], [0.8888888888888888, \"#fdca26\"], [1.0, \"#f0f921\"]], \"type\": \"surface\"}], \"table\": [{\"cells\": {\"fill\": {\"color\": \"#EBF0F8\"}, \"line\": {\"color\": \"white\"}}, \"header\": {\"fill\": {\"color\": \"#C8D4E3\"}, \"line\": {\"color\": \"white\"}}, \"type\": \"table\"}]}, \"layout\": {\"annotationdefaults\": {\"arrowcolor\": \"#2a3f5f\", \"arrowhead\": 0, \"arrowwidth\": 1}, \"coloraxis\": {\"colorbar\": {\"outlinewidth\": 0, \"ticks\": \"\"}}, \"colorscale\": {\"diverging\": [[0, \"#8e0152\"], [0.1, \"#c51b7d\"], [0.2, \"#de77ae\"], [0.3, \"#f1b6da\"], [0.4, \"#fde0ef\"], [0.5, \"#f7f7f7\"], [0.6, \"#e6f5d0\"], [0.7, \"#b8e186\"], [0.8, \"#7fbc41\"], [0.9, \"#4d9221\"], [1, \"#276419\"]], \"sequential\": [[0.0, \"#0d0887\"], [0.1111111111111111, \"#46039f\"], [0.2222222222222222, \"#7201a8\"], [0.3333333333333333, \"#9c179e\"], [0.4444444444444444, \"#bd3786\"], [0.5555555555555556, \"#d8576b\"], [0.6666666666666666, \"#ed7953\"], [0.7777777777777778, \"#fb9f3a\"], [0.8888888888888888, \"#fdca26\"], [1.0, \"#f0f921\"]], \"sequentialminus\": [[0.0, \"#0d0887\"], [0.1111111111111111, \"#46039f\"], [0.2222222222222222, \"#7201a8\"], [0.3333333333333333, \"#9c179e\"], [0.4444444444444444, \"#bd3786\"], [0.5555555555555556, \"#d8576b\"], [0.6666666666666666, \"#ed7953\"], [0.7777777777777778, \"#fb9f3a\"], [0.8888888888888888, \"#fdca26\"], [1.0, \"#f0f921\"]]}, \"colorway\": [\"#636efa\", \"#EF553B\", \"#00cc96\", \"#ab63fa\", \"#FFA15A\", \"#19d3f3\", \"#FF6692\", \"#B6E880\", \"#FF97FF\", \"#FECB52\"], \"font\": {\"color\": \"#2a3f5f\"}, \"geo\": {\"bgcolor\": \"white\", \"lakecolor\": \"white\", \"landcolor\": \"#E5ECF6\", \"showlakes\": true, \"showland\": true, \"subunitcolor\": \"white\"}, \"hoverlabel\": {\"align\": \"left\"}, \"hovermode\": \"closest\", \"mapbox\": {\"style\": \"light\"}, \"paper_bgcolor\": \"white\", \"plot_bgcolor\": \"#E5ECF6\", \"polar\": {\"angularaxis\": {\"gridcolor\": \"white\", \"linecolor\": \"white\", \"ticks\": \"\"}, \"bgcolor\": \"#E5ECF6\", \"radialaxis\": {\"gridcolor\": \"white\", \"linecolor\": \"white\", \"ticks\": \"\"}}, \"scene\": {\"xaxis\": {\"backgroundcolor\": \"#E5ECF6\", \"gridcolor\": \"white\", \"gridwidth\": 2, \"linecolor\": \"white\", \"showbackground\": true, \"ticks\": \"\", \"zerolinecolor\": \"white\"}, \"yaxis\": {\"backgroundcolor\": \"#E5ECF6\", \"gridcolor\": \"white\", \"gridwidth\": 2, \"linecolor\": \"white\", \"showbackground\": true, \"ticks\": \"\", \"zerolinecolor\": \"white\"}, \"zaxis\": {\"backgroundcolor\": \"#E5ECF6\", \"gridcolor\": \"white\", \"gridwidth\": 2, \"linecolor\": \"white\", \"showbackground\": true, \"ticks\": \"\", \"zerolinecolor\": \"white\"}}, \"shapedefaults\": {\"line\": {\"color\": \"#2a3f5f\"}}, \"ternary\": {\"aaxis\": {\"gridcolor\": \"white\", \"linecolor\": \"white\", \"ticks\": \"\"}, \"baxis\": {\"gridcolor\": \"white\", \"linecolor\": \"white\", \"ticks\": \"\"}, \"bgcolor\": \"#E5ECF6\", \"caxis\": {\"gridcolor\": \"white\", \"linecolor\": \"white\", \"ticks\": \"\"}}, \"title\": {\"x\": 0.05}, \"xaxis\": {\"automargin\": true, \"gridcolor\": \"white\", \"linecolor\": \"white\", \"ticks\": \"\", \"title\": {\"standoff\": 15}, \"zerolinecolor\": \"white\", \"zerolinewidth\": 2}, \"yaxis\": {\"automargin\": true, \"gridcolor\": \"white\", \"linecolor\": \"white\", \"ticks\": \"\", \"title\": {\"standoff\": 15}, \"zerolinecolor\": \"white\", \"zerolinewidth\": 2}}}},\n",
              "                        {\"responsive\": true}\n",
              "                    ).then(function(){\n",
              "                            \n",
              "var gd = document.getElementById('27271fe5-a4a1-4957-ae7f-228c002dbaa7');\n",
              "var x = new MutationObserver(function (mutations, observer) {{\n",
              "        var display = window.getComputedStyle(gd).display;\n",
              "        if (!display || display === 'none') {{\n",
              "            console.log([gd, 'removed!']);\n",
              "            Plotly.purge(gd);\n",
              "            observer.disconnect();\n",
              "        }}\n",
              "}});\n",
              "\n",
              "// Listen for the removal of the full notebook cells\n",
              "var notebookContainer = gd.closest('#notebook-container');\n",
              "if (notebookContainer) {{\n",
              "    x.observe(notebookContainer, {childList: true});\n",
              "}}\n",
              "\n",
              "// Listen for the clearing of the current output cell\n",
              "var outputEl = gd.closest('.output');\n",
              "if (outputEl) {{\n",
              "    x.observe(outputEl, {childList: true});\n",
              "}}\n",
              "\n",
              "                        })\n",
              "                };\n",
              "                \n",
              "            </script>\n",
              "        </div>\n",
              "</body>\n",
              "</html>"
            ]
          },
          "metadata": {
            "tags": []
          }
        }
      ]
    },
    {
      "cell_type": "code",
      "metadata": {
        "id": "uMeUxsawm_mY",
        "colab_type": "code",
        "colab": {}
      },
      "source": [
        ""
      ],
      "execution_count": null,
      "outputs": []
    }
  ]
}